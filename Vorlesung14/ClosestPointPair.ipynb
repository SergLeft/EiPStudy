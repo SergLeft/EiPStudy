{
 "cells": [
  {
   "cell_type": "markdown",
   "metadata": {},
   "source": [
    "![](../_images/Titel.svg)"
   ]
  },
  {
   "attachments": {},
   "cell_type": "markdown",
   "metadata": {},
   "source": [
    "# Weitere Anwendungen von Dictionaries\n",
    "\n",
    "## Das Problem des nächsten Punktepaares"
   ]
  },
  {
   "cell_type": "code",
   "execution_count": 12,
   "metadata": {},
   "outputs": [
    {
     "data": {
      "text/html": [
       "<video src=\"_images/CPR.mp4\" controls  width=\"1280\" >\n",
       "      Your browser does not support the <code>video</code> element.\n",
       "    </video>"
      ],
      "text/plain": [
       "<IPython.core.display.Video object>"
      ]
     },
     "execution_count": 12,
     "metadata": {},
     "output_type": "execute_result"
    }
   ],
   "source": [
    "from IPython import display\n",
    "\n",
    "display.Video(width=1280,filename=\"_images/CPR.mp4\",html_attributes='controls')"
   ]
  },
  {
   "cell_type": "code",
   "execution_count": null,
   "metadata": {},
   "outputs": [],
   "source": [
    "import math,random\n",
    "\n",
    "# Berechnung des quadratischen Abstandes zwischen zwei Punkten a und b mit Hilfe der Formel von Pythagoras\n",
    "def dist2(a,b):\n",
    "    d = 0.0\n",
    "    for i in range(len(a)):\n",
    "        d += (a[i]-b[i])*(a[i]-b[i])\n",
    "    return(d)\n",
    "\n",
    "# Wir fügen alle bisher betrachteten n Punkte in eine neue Gitterstruktur G mit Gitterweite d ein.\n",
    "# Die Zellen des kartesischen Gitters werden als Dictionary verwaltet, damit leere Gitterzellen\n",
    "# nicht explizit repräsentiert werden müssen. Als Schlüssel eines Punktes mit den kartesischen\n",
    "# Koordinaten (x,y) dienen die nach unten gerundeten ganzzahligen Koordinaten (⌊x/d⌋,⌊y/d⌋).\n",
    "# Es gilt die Invariante, dass in jeder Gitterzelle höchstens ein Punkt liegt und somit pro \n",
    "# Dictionary-Eintrag nur ein Punktindex gespeichert werden muss. Sollte ein weiterer Punkt in eine\n",
    "# schon besetzte Gitterzelle fallen, so muss ein Neuaufbau der Gitterstruktur mit verringerter\n",
    "# Gitterweite stattfinden.\n",
    "def regrid(G, p, n, d):\n",
    "    # Die bisherige Gitterstruktur G wird vollständig gelöscht.\n",
    "    G.clear()\n",
    "    # Die bisher betrachteten n Punkte des Punktefeldes p werden der Reihe nach in das\n",
    "    # neue Gitter mit Gitterweite d eingefügt.\n",
    "    for i in range(n):\n",
    "        # Berechnung des Schlüssels\n",
    "        (gx,gy) = (int(math.floor(p[i][0]/d)),int(math.floor(p[i][1]/d)))\n",
    "        # Eintrag des i-ten Punktes ins Dictionary\n",
    "        G[(gx,gy)] = i\n",
    "\n",
    "# Lokalisation und Einfügen des i-ten Punktes in die Gitterstruktur G\n",
    "def insert(G,p,i,dmin):\n",
    "    # Berechnung der Gitterzelle für den Punkt p[i]\n",
    "    (gx,gy) = (int(math.floor(p[i][0]/(dmin/2))),int(math.floor(p[i][1]/(dmin/2))))\n",
    "    # Überprüfung aller Gitterzellen in der 5x5 Umgebung der Zelle von p[i].\n",
    "    # Da die Gitterweite dmin/2 beträgt, kann sich nur dort ein Punkt aufhalten der \n",
    "    # näher als dmin zu p[i] liegt. \n",
    "    imin,jmin = -1,-1\n",
    "    for x in range(gx-2,gx+3):\n",
    "        for y in range(gy-2,gy+3):\n",
    "            # Wir überprüfen, ob die Gitterzelle zum Schlüssel (x,y) existiert.\n",
    "            if (x,y) in G:\n",
    "                # Wir haben einen Punkt in der 5x5 Umgebung von p[i] gefunden und\n",
    "                # überprüfen, ob sein Abstand zu p[i] wirklich kleiner als dmin ist.\n",
    "                d = math.sqrt(dist2(p[i],p[G[(x,y)]]))\n",
    "                if d < dmin:\n",
    "                    # Wir haben ein neues nächstes Punktepaar gefunden\n",
    "                    imin,jmin,dmin = i,G[(x,y)],d\n",
    "    # Einfügen des Punktes p[i] in die Gitterstruktur / das Dictionary.\n",
    "    G[(gx,gy)] = i\n",
    "    return(imin,jmin,dmin)\n",
    "\n",
    "# Wir verwenden einen inkrementellen randomisierten Algorithmus zur Bestimmung des nächsten\n",
    "# Punktepaares. Das heißt, wir betrachten einen Punkt nach dem anderen und gehen davon aus, \n",
    "# dass die Punkte in einer zufälligen Reihenfolge betrachtet werden. (Nur unter dieser Annahme\n",
    "# kann man beweisen, dass die erwartete Laufzeit linear in der Punkteanzahl wächst.)\n",
    "def closestPointPairRandomized(p):\n",
    "    # Initialisierung der Gitterweite mit dem Abstand dmin/2 der ersten beiden Punkte\n",
    "    imin,jmin,dmin = 0, 1, math.sqrt(dist2(p[0],p[1]))\n",
    "    # Die (nicht leeren) Zellen des Gitters werden im Dictionary G verwaltet.\n",
    "    G = dict()\n",
    "    # Wir fügen die beiden ersten Punkte in G ein.\n",
    "    regrid(G, p, 2, dmin / 2)\n",
    "    # Nun beziehen wir die verbleibenden Punkte der Reihe nach in die Betrachtung ein.\n",
    "    for n in range(2,len(p)):\n",
    "        # Lokalisiere den gerade betrachteten Punkt p[n] im Gitter und überprüfe dabei,\n",
    "        # ob er zu einem anderen Punkt einen kürzeren Abstand hat als der bisherige\n",
    "        # kürzesten Abstand dmin eines Punktepaares. Sollte dies nicht der Fall sein,\n",
    "        # wird der Punkt seiner (noch leeren) Gitterzelle zugeordnet.\n",
    "        i,j,d = insert(G,p,n,dmin)\n",
    "        if d < dmin:\n",
    "            # Der neue Punkt p[n] liegt näher zu einem anderen Punkt als dmin.\n",
    "            # Deshalb muss die Gitterstruktur für die bisher betrachteten Punkte\n",
    "            # komplett neu aufgebaut werden. Als Gitterweite wählen wir dmin/2.\n",
    "            imin,jmin,dmin = i,j,d\n",
    "            regrid(G, p, n + 1, dmin / 2)\n",
    "    return(imin,jmin,dmin)\n",
    "\n",
    "# Wir erzeugen eine zufällige Punktwolke mit n Punkten (gemäß einer Gaussverteilung)\n",
    "# Wenn wir anfangs nicht davon ausgehen können, dass die Punkte in einer zufälligen\n",
    "# Reihenfolge vorliegen, sollten wir sie zufällig permutieren, um mit hoher Wahrscheinlichkeit\n",
    "# eine lineare Laufzeit bei der inkrementellen randomisierten Vorgehensweise zu erzielen.\n",
    "# Siehe https://en.wikipedia.org/wiki/Closest_pair_of_points_problem#Linear-time_randomized_algorithms\n",
    "def createRandomPointSet(n):\n",
    "    p = []\n",
    "    for i in range(n):\n",
    "        x = random.gauss(0.0,100.0)\n",
    "        y = random.gauss(0.0,100.0)\n",
    "        p.append((x,y))\n",
    "    return(p)\n",
    "\n",
    "# Der naive Algorithmus zur Bestimmung eines nächsten Punktepaares betrachtet alle Paare (p[i],p[j])\n",
    "# von Punkten, wobei 0 <= i < j < n. Er berechnet die Quadrate der Abstände zwischen p[i] und p[j]\n",
    "# und bestimmt die Indizes des Punktepaares mit einem kleinsten Abstand. \n",
    "def closestPointPairNaiv(p):\n",
    "    imin,jmin,dmin = -1, -1, math.inf\n",
    "    for i in range(len(p)):\n",
    "        for j in range(i+1,len(p)):\n",
    "            d = dist2(p[i],p[j])\n",
    "            if d < dmin:\n",
    "                imin,jmin,dmin = i,j,d\n",
    "    return(imin,jmin,math.sqrt(dmin))\n",
    "\n",
    "# Erzeugen einer zufälligen Punktwolke\n",
    "p = createRandomPointSet(10000)\n",
    "# Vergleich der Resultate und der Laufzeit der naiven Methode und der randomisierten, inkrementellen Methode\n",
    "print(closestPointPairRandomized(p))\n",
    "print(closestPointPairNaiv(p))"
   ]
  }
 ],
 "metadata": {
  "kernelspec": {
   "display_name": "Python 3",
   "language": "python",
   "name": "python3"
  },
  "language_info": {
   "codemirror_mode": {
    "name": "ipython",
    "version": 3
   },
   "file_extension": ".py",
   "mimetype": "text/x-python",
   "name": "python",
   "nbconvert_exporter": "python",
   "pygments_lexer": "ipython3",
   "version": "3.10.6"
  },
  "orig_nbformat": 4,
  "vscode": {
   "interpreter": {
    "hash": "916dbcbb3f70747c44a77c7bcd40155683ae19c65e1c03b4aa3499c5328201f1"
   }
  }
 },
 "nbformat": 4,
 "nbformat_minor": 2
}
