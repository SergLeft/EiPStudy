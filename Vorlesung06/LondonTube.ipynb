{
 "cells": [
  {
   "cell_type": "markdown",
   "metadata": {},
   "source": [
    "![](_images/LondonTube.png)"
   ]
  },
  {
   "cell_type": "code",
   "execution_count": null,
   "metadata": {},
   "outputs": [],
   "source": [
    "datei = open('data/LondonTubeLines.csv','r')\n",
    "datei.readline()\n",
    "# Initialisierung einer leeren Adjazenzliste\n",
    "G = []\n",
    "\n",
    "# In jeder neuen Zeile der Datei finden wir eine gerichtete Kante (u->v) des Graphen G\n",
    "# Wir fuegen Kante fuer Kante zu der Adjazenzliste von G\n",
    "stations = []\n",
    "for zeile in datei:\n",
    "    kante = zeile.split(',')\n",
    "    uName = kante[1]\n",
    "    if uName not in stations:\n",
    "        stations.append(uName)\n",
    "        G.append([])\n",
    "    vName = kante[2].rstrip('\\n')\n",
    "    if vName not in stations:\n",
    "        stations.append(vName)\n",
    "        G.append([])\n",
    "    u = stations.index(uName)\n",
    "    v = stations.index(vName)\n",
    "    if v not in G[u]:\n",
    "        G[u].append(v)\n",
    "    if u not in G[v]:\n",
    "        G[v].append(u)\n",
    "datei.close()\n",
    "\n",
    "n = len(stations)\n",
    "print(n)\n",
    "\n",
    "# Es folgt die Breitensuche.\n",
    "\n",
    "# Wir initialisieren zwei Hilfsfelder.\n",
    "# Ein boolesches Feld 'besucht' zur Markierung der bereits besuchten Knoten von G \n",
    "besucht = [ False for i in range(n)] \n",
    "# Ein Vorgaengerfeld 'pred' zum Speichern des Knotens, von wo aus wir einen neuen Knoten entdeckt haben.\n",
    "pred = [ 0 for i in range(n)]\n",
    "\n",
    "# Wir suchen vom Startknoten die kuerzesten Wege zu allen anderen Knoten in G.\n",
    "# Unter einem kuerzesten Weg verstehen wir einen Weg, der die kleinst mögliche Zahl von Kanten benutzt.\n",
    "start = stations.index('Silver Street')\n",
    "Q = [start]\n",
    "print(stations[start])\n",
    "besucht[start] = True\n",
    "\n",
    "# Das Feld Q fungiert als Warteschlange\n",
    "while len(Q) > 0:\n",
    "    # Wir bearbeiten stets den Knoten u am Kopf der Warteschlange.\n",
    "    u = Q.pop(0)\n",
    "    # Dazu schauen wir uns alle von u ausgehenden Kante in der Adjazenzliste G[u] an.\n",
    "    for v in G[u]:\n",
    "        # Wir untersuchen, ob die Kante u-> zu einem noch nicht besuchten Knoten v fuehrt.\n",
    "        if not besucht[v]:\n",
    "            # Wir fuegen den neu entdeckten Knoten zur Warteschlange Q hinzu\n",
    "            Q.append(v)\n",
    "            # und markieren v als besucht, um v zu einem spaeteren Zeitpunkt nicht erneut in Q aufzunehmen.\n",
    "            besucht[v] = True\n",
    "            # Wir merken uns im Vorgaengerfeld, dass wir v von u aus entdeckt haben.\n",
    "            pred[v] = u\n",
    "\n",
    "# Durch Rueckwaertsverfolgung der Vorgaengerverweise folgen wir einem kuerzesten Weg \n",
    "# vom Zielknoten zum Startknoten.\n",
    "u = stations.index('Wimbledon')\n",
    "print(stations[u],end='')\n",
    "while u != start:\n",
    "    v = pred[u]\n",
    "    print(' -> ',stations[v])\n",
    "    u = v\n"
   ]
  }
 ],
 "metadata": {
  "kernelspec": {
   "display_name": "Python 3",
   "language": "python",
   "name": "python3"
  },
  "language_info": {
   "codemirror_mode": {
    "name": "ipython",
    "version": 3
   },
   "file_extension": ".py",
   "mimetype": "text/x-python",
   "name": "python",
   "nbconvert_exporter": "python",
   "pygments_lexer": "ipython3",
   "version": "3.12.3"
  }
 },
 "nbformat": 4,
 "nbformat_minor": 2
}
