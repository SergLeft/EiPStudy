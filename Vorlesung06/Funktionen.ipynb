{
 "cells": [
  {
   "cell_type": "markdown",
   "metadata": {},
   "source": [
    "# Funktionen:"
   ]
  },
  {
   "cell_type": "code",
   "execution_count": null,
   "metadata": {},
   "outputs": [],
   "source": [
    "import math\n",
    "\n",
    "def f(x):\n",
    "    return(x*x)\n",
    "\n",
    "y = f(3)\n",
    "\n",
    "print(y)\n",
    "\n",
    "def abstand(a,b):\n",
    "    d = 0.0\n",
    "    for i in range(len(a)):\n",
    "        d += (a[i]-b[i])*(a[i]-b[i])\n",
    "    return(math.sqrt(d))\n",
    "\n",
    "a = (7,9)\n",
    "b = (1,1)\n",
    "\n",
    "print(abstand(a,b))\n",
    "\n"
   ]
  },
  {
   "cell_type": "markdown",
   "metadata": {},
   "source": [
    "# Fakultät:\n",
    "\n",
    "$$\n",
    "n! = 1\\cdot 2\\cdot 3\\cdots (n-1)\\cdot n = \\prod_{i=1}^n i\n",
    "$$\n",
    "\n",
    "# Fibonacci-Zahlen:\n",
    "$$\n",
    "\\begin{array}{|c|c|c|c|c|c|c|c|c|c|c|c|c|}\n",
    "\\hline\n",
    "n & 0 & 1 & 2 & 3 & 4 & 5 & 6 & 7 & 8 & 9 & 10 & \\ldots\\\\\n",
    "\\hline\n",
    "f(n) & 0 & 1 & 1 & 2 & 3 & 5 & 8 & 13 & 21 & 34 & 55 & \\ldots \\\\\n",
    "\\hline\n",
    "\\end{array}\n",
    "$$"
   ]
  },
  {
   "cell_type": "code",
   "execution_count": null,
   "metadata": {},
   "outputs": [],
   "source": [
    "n = 3\n",
    "f = 1\n",
    "while n > 0:\n",
    "    f = f * n\n",
    "    n = n - 1\n",
    "print(f)\n",
    "\n",
    "def fibonacci(n):\n",
    "    a = 0\n",
    "    b = 1\n",
    "    while n > 0:\n",
    "        a,b = b,a+b\n",
    "        n -= 1\n",
    "    return(a)\n",
    "\n",
    "print(fibonacci(10))\n"
   ]
  },
  {
   "cell_type": "markdown",
   "metadata": {},
   "source": [
    "# Zyklisches Verschieben von Feldelementen:"
   ]
  },
  {
   "cell_type": "code",
   "execution_count": null,
   "metadata": {},
   "outputs": [],
   "source": [
    "\n",
    "def shift(a):\n",
    "    b = []\n",
    "    for i in range(1,len(a)):\n",
    "        b.append(a[i])\n",
    "    b.append(a[0])\n",
    "    return(b)\n",
    "\n",
    "def shift_in_place(a):\n",
    "    tmp = a[0]\n",
    "    for i in range(len(a)-1):\n",
    "        a[i] = a[i+1]\n",
    "    a[len(a)-1] = tmp\n",
    "\n",
    "a = [1,2,3]\n",
    "#shift_in_place(a)\n",
    "print(a)\n",
    "b = shift(a)\n",
    "print(b)\n"
   ]
  },
  {
   "cell_type": "markdown",
   "metadata": {},
   "source": [
    "# Parameterübergabe und Speicherverwaltung:\n",
    "\n"
   ]
  },
  {
   "cell_type": "code",
   "execution_count": 1,
   "metadata": {},
   "outputs": [
    {
     "data": {
      "text/html": [
       "<video src=\"_images/Para1.mp4\" controls  width=\"1024\" >\n",
       "      Your browser does not support the <code>video</code> element.\n",
       "    </video>"
      ],
      "text/plain": [
       "<IPython.core.display.Video object>"
      ]
     },
     "execution_count": 1,
     "metadata": {},
     "output_type": "execute_result"
    }
   ],
   "source": [
    "from IPython import display\n",
    "\n",
    "display.Video(width=1024,filename=\"_images/Para1.mp4\",html_attributes='controls')"
   ]
  },
  {
   "cell_type": "code",
   "execution_count": 2,
   "metadata": {},
   "outputs": [
    {
     "data": {
      "text/html": [
       "<video src=\"_images/Para2.mp4\" controls  width=\"1024\" >\n",
       "      Your browser does not support the <code>video</code> element.\n",
       "    </video>"
      ],
      "text/plain": [
       "<IPython.core.display.Video object>"
      ]
     },
     "execution_count": 2,
     "metadata": {},
     "output_type": "execute_result"
    }
   ],
   "source": [
    "from IPython import display\n",
    "\n",
    "display.Video(width=1024,filename=\"_images/Para2.mp4\",html_attributes='controls')"
   ]
  }
 ],
 "metadata": {
  "kernelspec": {
   "display_name": "Python 3",
   "language": "python",
   "name": "python3"
  },
  "language_info": {
   "codemirror_mode": {
    "name": "ipython",
    "version": 3
   },
   "file_extension": ".py",
   "mimetype": "text/x-python",
   "name": "python",
   "nbconvert_exporter": "python",
   "pygments_lexer": "ipython3",
   "version": "3.12.3"
  },
  "orig_nbformat": 4
 },
 "nbformat": 4,
 "nbformat_minor": 2
}
