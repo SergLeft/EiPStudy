{
 "cells": [
  {
   "cell_type": "markdown",
   "metadata": {},
   "source": [
    "# Zinsrechnung\n",
    "\n",
    "![](_images/Zins.svg)\n"
   ]
  },
  {
   "cell_type": "code",
   "execution_count": 4,
   "metadata": {},
   "outputs": [
    {
     "name": "stdout",
     "output_type": "stream",
     "text": [
      "Kapital nach einem Jahr = 101.0\n"
     ]
    }
   ],
   "source": [
    "K0 = float(input('Startkapital = '))\n",
    "p = 0.01\n",
    "Z = K0 * p\n",
    "K1 = K0 + Z\n",
    "print('Kapital nach einem Jahr = '+str(K1))"
   ]
  },
  {
   "cell_type": "markdown",
   "metadata": {},
   "source": [
    "![](_images/Zins2.svg)"
   ]
  },
  {
   "cell_type": "markdown",
   "metadata": {},
   "source": [
    "# If-Anweisung\n",
    "![](_images/If-Anweisung.svg)"
   ]
  },
  {
   "cell_type": "code",
   "execution_count": 6,
   "metadata": {},
   "outputs": [
    {
     "name": "stdout",
     "output_type": "stream",
     "text": [
      "Kapital nach einem Jahr =  510.0\n"
     ]
    }
   ],
   "source": [
    "K = float(input('Startkapital = '))\n",
    "if K > 1000:\n",
    "    p = 0.01\n",
    "else:\n",
    "    p = 0.02\n",
    "Z = K * p\n",
    "K = K + Z\n",
    "print('Kapital nach einem Jahr = ',K)"
   ]
  }
 ],
 "metadata": {
  "kernelspec": {
   "display_name": "Python 3.10.6 64-bit",
   "language": "python",
   "name": "python3"
  },
  "language_info": {
   "codemirror_mode": {
    "name": "ipython",
    "version": 3
   },
   "file_extension": ".py",
   "mimetype": "text/x-python",
   "name": "python",
   "nbconvert_exporter": "python",
   "pygments_lexer": "ipython3",
   "version": "3.10.6"
  },
  "orig_nbformat": 4,
  "vscode": {
   "interpreter": {
    "hash": "916dbcbb3f70747c44a77c7bcd40155683ae19c65e1c03b4aa3499c5328201f1"
   }
  }
 },
 "nbformat": 4,
 "nbformat_minor": 2
}
