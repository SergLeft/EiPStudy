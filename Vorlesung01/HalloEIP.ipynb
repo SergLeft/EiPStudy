{
 "cells": [
  {
   "cell_type": "markdown",
   "metadata": {},
   "source": [
    "![](../_images/Titel.svg)"
   ]
  },
  {
   "cell_type": "markdown",
   "metadata": {},
   "source": [
    "# Organisation\n",
    "\n",
    "* Vorlesung: dienstags 14:15 - 16:00 Uhr (mit Pause) im S1\n",
    "* wöchentliche Übung mit alten Klausuraufgaben und Programmieraufgaben\n",
    "* Vorlesungs- und Übungsmaterialien in Moodle\n",
    "* Einteilung der Abgabegruppen (2-3 Personen) in Moodle in dieser Woche\n",
    "* Abgabe der bearbeiteten Übungsaufgaben in Moodle ab nächste Woche\n",
    "\n",
    "* Zentraltutorium: MS-Teams, Beitrittscode: **3azer0e** (noch in Planung)\n",
    "* Lernwerkstatt: Mo-Do am späten Nachmittag\n",
    "\n",
    "* anonymer Mathematik-Test: Di, den 22. April 14:15 - 14:40 Uhr im S1\n",
    "\n",
    "\n",
    "## Klausurzulassung:\n",
    "\n",
    "* selbständige Bearbeitung von 50% der Übungsaufgaben\n",
    "* 2 von 4 Tests sollten erfolgreich absolviert werden\n",
    "\n",
    "1. Test:  4. Woche, 20 Minuten in den Übungen\n",
    "2. Test:  7. Woche, 20 Minuten in den Übungen \n",
    "3. Test: 10. Woche, Zwischenklausur: Di, den 17. Juni 14:15 - 15:00 Uhr im S1\n",
    "4. Test: 13. Woche, 20 Minuten in den Übungen\n",
    "\n",
    "## Klausur: \n",
    "* Fr, den 8. August, 9:00 - 12:00 Uhr\n",
    "------\n",
    "\n",
    "### EIP-Team:\n",
    "\n",
    "* Lukas Birklein (Assistenz)\n",
    "* Koray Coban, Leo Heiniz, Justus Delerme, Janick Frank, Magnus Christian Merdaci, Cosmo Rasul, Jonas Rogel (Übungsgruppenleiter)\n",
    "* Axinia Butkow (Lernwerkstatt)\n",
    "\n",
    "------"
   ]
  },
  {
   "cell_type": "markdown",
   "metadata": {},
   "source": [
    "# Lerninhalte:\n",
    "\n",
    "## Programmierparadigmen\n",
    "\n",
    "* imperative Programmierung\n",
    "  * Kontrolle des Programmflusses, Programmablaufdiagramme\n",
    "* funktionale Programmierung\n",
    "  * (rekursive) Funktionen, Mechanismen der Parameterübergabe\n",
    "* objektorientierte Programmierung\n",
    "  * Klassen, Objekte, Methoden, Vererbung\n",
    "* ereignisorientierte Programmierung\n",
    "  * grafische Benutzeroberflächen\n",
    "\n",
    "-------------"
   ]
  },
  {
   "cell_type": "markdown",
   "metadata": {},
   "source": [
    "## Datenstrukturen und Algorithmen\n",
    "\n",
    "* Datenstrukturen\n",
    "  * (mehrdimensionale) Felder\n",
    "  * verkettete Listen, Suchbäume\n",
    "  * Wörterbücher\n",
    "* Einfache Algorithmen\n",
    "  * Euklidische Algorithmus\n",
    "  * (effiziente) Sortierverfahren\n",
    "  * Korrektheit und Laufzeit von Algorithmen\n",
    "  * Divide and Conquer\n",
    "  * Backtracking\n",
    "\n",
    "-------------"
   ]
  },
  {
   "cell_type": "markdown",
   "metadata": {},
   "source": [
    "## Anwendungsbeispiele\n",
    "\n",
    "* Zinseszinsrechnung\n",
    "* Zahlentheorie: Euklidischer Algorithmus, Primzahlen, Fibonacci-Zahlen\n",
    "* (effiziente) Sortieralgorithmen, Bubblesort, Mergesort, binäre Suche\n",
    "* Türme von Hanoi, n-Damen-Problem, Springerproblem, Sudoku/Binairo\n",
    "* Computeralgebra: Bruchrechnung, Polynomoperationen\n",
    "* Einfache Spiele mit Pygame (Pong, Pacman, Tangram, ...)\n",
    "\n",
    "&nbsp;\n",
    "\n",
    "-------------\n",
    "\n",
    "&nbsp;\n",
    "\n",
    "&nbsp;"
   ]
  },
  {
   "cell_type": "markdown",
   "metadata": {},
   "source": [
    "## Hello World"
   ]
  },
  {
   "cell_type": "code",
   "execution_count": null,
   "metadata": {},
   "outputs": [
    {
     "name": "stdout",
     "output_type": "stream",
     "text": [
      "Herzlich Willkommen zur Vorlesung Einführung in die Programmierung\n"
     ]
    }
   ],
   "source": [
    "print('Herzlich Willkommen zur Vorlesung Einführung in die Programmierung')"
   ]
  }
 ],
 "metadata": {
  "kernelspec": {
   "display_name": "Python 3",
   "language": "python",
   "name": "python3"
  },
  "language_info": {
   "codemirror_mode": {
    "name": "ipython",
    "version": 3
   },
   "file_extension": ".py",
   "mimetype": "text/x-python",
   "name": "python",
   "nbconvert_exporter": "python",
   "pygments_lexer": "ipython3",
   "version": "3.13.2"
  },
  "orig_nbformat": 4
 },
 "nbformat": 4,
 "nbformat_minor": 2
}
