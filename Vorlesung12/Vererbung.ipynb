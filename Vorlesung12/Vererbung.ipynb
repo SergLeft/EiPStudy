{
 "cells": [
  {
   "attachments": {},
   "cell_type": "markdown",
   "metadata": {},
   "source": [
    "![](../_images/Titel.svg)"
   ]
  },
  {
   "attachments": {},
   "cell_type": "markdown",
   "metadata": {},
   "source": [
    "# Vererbung"
   ]
  },
  {
   "cell_type": "code",
   "execution_count": 1,
   "metadata": {},
   "outputs": [
    {
     "data": {
      "text/html": [
       "<video src=\"_images/Vererbung.mp4\" controls  width=\"1280\" >\n",
       "      Your browser does not support the <code>video</code> element.\n",
       "    </video>"
      ],
      "text/plain": [
       "<IPython.core.display.Video object>"
      ]
     },
     "execution_count": 1,
     "metadata": {},
     "output_type": "execute_result"
    }
   ],
   "source": [
    "from IPython import display\n",
    "\n",
    "display.Video(width=1280,filename=\"_images/Vererbung.mp4\",html_attributes='controls')"
   ]
  },
  {
   "attachments": {},
   "cell_type": "markdown",
   "metadata": {},
   "source": [
    "![](_images/Vererbung.svg)"
   ]
  },
  {
   "cell_type": "code",
   "execution_count": 2,
   "metadata": {},
   "outputs": [
    {
     "name": "stdout",
     "output_type": "stream",
     "text": [
      "1.0\n",
      "{'farbe': 'rot', 'cx': 1.0, 'cy': 2.0, 'laenge': 1.0, 'breite': 1.0}\n"
     ]
    }
   ],
   "source": [
    "import math\n",
    "\n",
    "# Die Basisklasse zur Repräsentation einer geometrischen Form\n",
    "class GeoForm:\n",
    "    # Der Konstruktor\n",
    "    def __init__(self,f,x,y):\n",
    "        # Initialisierung der Attribute farbe und der Koordinaten (cx,cy) des Referenzpunktes\n",
    "        self.farbe = f\n",
    "        self.cx = x\n",
    "        self.cy = y\n",
    "\n",
    "    # Eine Methode zum Verschieben des Referenzpunktes der geometrischen Form\n",
    "    def verschiebe(self,dx,dy):\n",
    "        self.cx += dx\n",
    "        self.cy += dy\n",
    "\n",
    "    # Überladen der str-Funktion\n",
    "    def __str__(self):\n",
    "        return('Ich bin eine GeoForm mit Farbe '+self.farbe+' und den Koordinaten '+str(self.cx)+' '+str(self.cy))\n",
    "\n",
    "# Ableitung einer neuen Klasse Rechteck von der Basisklasse GeoForm\n",
    "class Rechteck(GeoForm):\n",
    "\n",
    "    def __init__(self,f,x,y,l,b):\n",
    "        # Durch den Methodenaufruf super() haben wir Zugriff auf die Attribute und Methoden der Basisklasse.\n",
    "        # Wir rufen den Konstruktor der Basisklasse GeoForm auf.\n",
    "        super().__init__(f,x,y)\n",
    "        # Wir setzen die Länge und Breite des Rechtecks als zwei weitere Attribute fest.\n",
    "        self.laenge = l\n",
    "        self.breite = b\n",
    "\n",
    "    # Eine Methode zur Berechnung der Fläche des Rechtecks.\n",
    "    def flaeche(self):\n",
    "        return(self.laenge * self.breite)\n",
    "\n",
    "    # Wir überladen die str-Funktion der Basisklasse.\n",
    "    def __str__(self):\n",
    "        return('Ich bin ein Rechteck mit Farbe '+self.farbe+' und den Koordinaten '+str(self.cx)+' '+str(self.cy))\n",
    "\n",
    "# Ableitung der Klasse Raute von GeoForm analog zu Rechteck\n",
    "class Raute(GeoForm):\n",
    "    def __init__(self,f,x,y,l,phi):\n",
    "        super().__init__(f,x,y)\n",
    "        self.laenge = l\n",
    "        self.winkel = phi\n",
    "\n",
    "    def flaeche(self):\n",
    "        return(self.laenge * self.laenge * math.sin(self.winkel*math.pi/180.0))\n",
    "\n",
    "    def __str__(self):\n",
    "        return('Ich bin ein Raute mit Farbe '+self.farbe+' und den Koordinaten '+str(self.cx)+' '+str(self.cy))\n",
    "\n",
    "#Ableitung der Klasse Ellipse von GeoForm analog zu Rechteck\n",
    "class Ellipse(GeoForm):\n",
    "    def __init__(self,f,x,y,a,b):\n",
    "        super().__init__(f,x,y)\n",
    "        self.a = a\n",
    "        self.b = b\n",
    "\n",
    "    def flaeche(self):\n",
    "        return(self.a * self.b * math.pi)\n",
    "\n",
    "    def __str__(self):\n",
    "        return('Ich bin ein Ellipse mit Farbe '+self.farbe+' und den Koordinaten '+str(self.cx)+' '+str(self.cy))\n",
    "\n",
    "# Ableitung der Klasse Kreis von der Basisklasse Ellipse, die ihrerseits von GeoForm abgeleitet ist.\n",
    "class Kreis(Ellipse):\n",
    "    def __init__(self,f,x,y,r):\n",
    "        super().__init__(f,x,y,r,r)\n",
    "\n",
    "    def __str__(self):\n",
    "        return('Ich bin ein Kreis mit Farbe '+self.farbe+' und den Koordinaten '+str(self.cx)+' '+str(self.cy))\n",
    "\n",
    "# Ableitung der Klasse Quadrat von der Basisklasse Rechteck, die ihrerseits von GeoForm abgeleitet ist.\n",
    "# Eine Mehrfachvererbung\n",
    "# class Quadrat(Rechteck,Raute):\n",
    "# ist möglich, führt in diesem Beispiel aber zu Konflikten bei den Konstruktoraufrufen.\n",
    "# Näheres zu dieser Problematik siehe MRO (Method Resolution Order).\n",
    "class Quadrat(Rechteck):\n",
    "    def __init__(self,f,x,y,laenge):\n",
    "        super().__init__(f,x,y,laenge,laenge)\n",
    "\n",
    "    def __str__(self):\n",
    "        return('Ich bin ein Quadrat mit Farbe '+self.farbe+' und den Koordinaten '+str(self.cx)+' '+str(self.cy))\n",
    "\n",
    "# Aufruf des Konstruktors für ein Quadrat.\n",
    "Q = Quadrat('rot',0.0,0.0,1.0)\n",
    "# Flächenberechnung für das Quadrat Q. Die Quadrat-Klasse verfügt selbst nicht über die Member-Funktion flaeche.\n",
    "# Sie erbt diese Funktion von ihrer Basisklasse Rechteck.\n",
    "print(Q.flaeche())\n",
    "# Aufruf der verschiebe-Funktion. Diese ist über die Rechteck-Klasse von deren Basisklasse GeoForm geerbt worden.\n",
    "Q.verschiebe(1.0,2.0)\n",
    "# Ausgabe aller geerbten und eigenen Attribute in Form des internen Dictionaries,\n",
    "# das zur Verwaltung der Attribute dient.\n",
    "print(Q.__dict__)\n"
   ]
  }
 ],
 "metadata": {
  "kernelspec": {
   "display_name": "Python 3",
   "language": "python",
   "name": "python3"
  },
  "language_info": {
   "codemirror_mode": {
    "name": "ipython",
    "version": 3
   },
   "file_extension": ".py",
   "mimetype": "text/x-python",
   "name": "python",
   "nbconvert_exporter": "python",
   "pygments_lexer": "ipython3",
   "version": "3.10.6 (main, Nov 14 2022, 16:10:14) [GCC 11.3.0]"
  },
  "orig_nbformat": 4,
  "vscode": {
   "interpreter": {
    "hash": "916dbcbb3f70747c44a77c7bcd40155683ae19c65e1c03b4aa3499c5328201f1"
   }
  }
 },
 "nbformat": 4,
 "nbformat_minor": 2
}
