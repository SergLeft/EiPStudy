{
 "cells": [
  {
   "attachments": {},
   "cell_type": "markdown",
   "metadata": {},
   "source": [
    "# Python-Dictionaries"
   ]
  },
  {
   "cell_type": "code",
   "execution_count": null,
   "metadata": {},
   "outputs": [],
   "source": [
    "# Verwendung von Wörterbüchern (engl. dictionaries)\n",
    "# Anlegen eines dict mit deutsch-englischen Wortpaaren der Form Schlüssel:Inhalt (engl. key : value)\n",
    "DE = {'Haus':'house','Baum':'tree','Garten':'garden','Dach':'roof'}\n",
    "# Hinzufügen eines weiteren Wortpaares: key = 'Auto', value = 'car'\n",
    "DE.update({'Auto':'car'})\n",
    "# Suche nach dem Schlüssel 'Baum'\n",
    "print(DE.get('Baum'))\n",
    "# Löschen des Schlüssel:Inhalt-Paares zum Schlüssel 'Baum'\n",
    "DE.pop('Baum')\n",
    "# Ausgabe des gesamten dict.\n",
    "print(DE)\n",
    "# Intuitive Schreibweise zum Einfügen des Schlüssel-Inhalt-Paares 'Baum':'tree'\n",
    "DE['Baum'] = 'tree'\n",
    "# Erneute Ausgabe des gesamten dict.\n",
    "print(DE)\n",
    "\n",
    "# Erstellen eines inversen englisch-deutschen Wörterbuches\n",
    "# Initialisierung eines leeren dict.\n",
    "ED = {} # dict()\n",
    "# Wir iterieren über alle Schlüssel des deutsch-englischen Wörterbuches\n",
    "for x in DE.keys():\n",
    "    # und verwenden die englische Übersetzung DE[x] des deutschen Wortes x\n",
    "    # als Schlüssel zu x im englisch-deutschen Wörterbuch.\n",
    "    ED[DE[x]] = x\n",
    "# Ausgabe des englisch-deutschen Wörterbuches.\n",
    "print(ED)\n",
    "print(ED['tree'])\n",
    "\n",
    "D = dict()\n",
    "\n",
    "datei = open('data/Woerterbuch.txt',encoding='utf-8')\n",
    "\n",
    "for zeile in datei:\n",
    "    wort = zeile.split('\\t')\n",
    "    # print(wort[0],wort[1])\n",
    "    D.update({wort[0]:wort[1]})\n",
    "\n",
    "datei.close()\n",
    "\n",
    "while True:\n",
    "    wort = input('de = ')\n",
    "    print(D.get(wort))\n",
    "\n"
   ]
  },
  {
   "cell_type": "markdown",
   "metadata": {},
   "source": [
    "# Hashing mit Verkettung"
   ]
  },
  {
   "cell_type": "code",
   "execution_count": 1,
   "metadata": {},
   "outputs": [
    {
     "data": {
      "text/html": [
       "<video src=\"_images/Hashing.mp4\" controls  width=\"1280\" >\n",
       "      Your browser does not support the <code>video</code> element.\n",
       "    </video>"
      ],
      "text/plain": [
       "<IPython.core.display.Video object>"
      ]
     },
     "execution_count": 1,
     "metadata": {},
     "output_type": "execute_result"
    }
   ],
   "source": [
    "from IPython import display\n",
    "\n",
    "display.Video(width=1280,filename=\"_images/Hashing.mp4\",html_attributes='controls')"
   ]
  }
 ],
 "metadata": {
  "kernelspec": {
   "display_name": "Python 3",
   "language": "python",
   "name": "python3"
  },
  "language_info": {
   "codemirror_mode": {
    "name": "ipython",
    "version": 3
   },
   "file_extension": ".py",
   "mimetype": "text/x-python",
   "name": "python",
   "nbconvert_exporter": "python",
   "pygments_lexer": "ipython3",
   "version": "3.12.3"
  },
  "orig_nbformat": 4,
  "vscode": {
   "interpreter": {
    "hash": "916dbcbb3f70747c44a77c7bcd40155683ae19c65e1c03b4aa3499c5328201f1"
   }
  }
 },
 "nbformat": 4,
 "nbformat_minor": 2
}
