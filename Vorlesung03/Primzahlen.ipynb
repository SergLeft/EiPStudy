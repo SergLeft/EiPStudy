{
 "cells": [
  {
   "cell_type": "markdown",
   "metadata": {},
   "source": [
    "![](../_images/Titel.svg)"
   ]
  },
  {
   "cell_type": "markdown",
   "metadata": {},
   "source": [
    "# Primzahltest\n",
    "\n",
    "__Frage:__ Ist $n\\in\\mathbb{N}$ eine Primzahl? \n",
    "\n",
    "__Naive Idee:__ \n",
    "\n",
    "$$n\\text{ ist nicht prim } \\Leftrightarrow \\exists\\;x\\in\\mathbb{N},\\;2\\leq x< n:\\quad x\\text{ teilt } n.$$\n",
    "\n",
    "__Laufzeitverbesserung:__\n",
    "\n",
    "$$n\\text{ ist nicht prim } \\Leftrightarrow \\exists\\;x\\in\\mathbb{N},\\;2\\leq x\\leq\\sqrt{n}:\\quad x\\text{ teilt } n.$$\n",
    "\n",
    "__Korrektheit:__\n",
    "\n",
    "Behauptung: Sei $x$ der kleinste echte Teiler von $n\\in\\mathbb{N}$, dann gilt $x\\leq \\sqrt{n}$.\n",
    "\n",
    "Beweis: Sei $n=x\\cdot y\\text{ mit }x\\neq 1\\text{ und }y\\neq 1$.\n",
    "\n",
    "Annahme: $x > \\sqrt{n}\\text{ und } y > \\sqrt{n}\\quad\\Rightarrow\\quad x\\cdot y > \\sqrt{n}\\cdot\\sqrt{n} = n\\qquad$ Widerspruch\n"
   ]
  },
  {
   "cell_type": "markdown",
   "metadata": {},
   "source": [
    "![](_images/IstPrim.svg)"
   ]
  },
  {
   "cell_type": "code",
   "execution_count": 2,
   "metadata": {},
   "outputs": [
    {
     "name": "stdout",
     "output_type": "stream",
     "text": [
      "ist prim.\n"
     ]
    }
   ],
   "source": [
    "n = int(input('n = '))\n",
    "x = 2\n",
    "while x*x <= n:\n",
    "    if n % x == 0:\n",
    "        print('ist nicht prim.')\n",
    "        break\n",
    "    x = x + 1\n",
    "else:\n",
    "    print('ist prim.')"
   ]
  },
  {
   "cell_type": "markdown",
   "metadata": {},
   "source": [
    "# Break-Anweisung\n"
   ]
  },
  {
   "cell_type": "markdown",
   "metadata": {},
   "source": [
    "![](_images/While-Break-Else.svg)"
   ]
  },
  {
   "cell_type": "markdown",
   "metadata": {},
   "source": [
    "# Continue-Anweisung"
   ]
  },
  {
   "cell_type": "markdown",
   "metadata": {},
   "source": [
    "![](_images/While-Continue-Else.svg)"
   ]
  },
  {
   "cell_type": "markdown",
   "metadata": {},
   "source": [
    "# Primzahlen < 1000\n",
    "\n",
    "![](_images/Primzahlen.svg)"
   ]
  },
  {
   "cell_type": "code",
   "execution_count": 1,
   "metadata": {},
   "outputs": [
    {
     "name": "stdout",
     "output_type": "stream",
     "text": [
      "2 ist eine Primzahl.\n",
      "3 ist eine Primzahl.\n",
      "5 ist eine Primzahl.\n",
      "7 ist eine Primzahl.\n",
      "11 ist eine Primzahl.\n",
      "13 ist eine Primzahl.\n",
      "17 ist eine Primzahl.\n",
      "19 ist eine Primzahl.\n",
      "23 ist eine Primzahl.\n",
      "29 ist eine Primzahl.\n",
      "31 ist eine Primzahl.\n",
      "37 ist eine Primzahl.\n",
      "41 ist eine Primzahl.\n",
      "43 ist eine Primzahl.\n",
      "47 ist eine Primzahl.\n",
      "53 ist eine Primzahl.\n",
      "59 ist eine Primzahl.\n",
      "61 ist eine Primzahl.\n",
      "67 ist eine Primzahl.\n",
      "71 ist eine Primzahl.\n",
      "73 ist eine Primzahl.\n",
      "79 ist eine Primzahl.\n",
      "83 ist eine Primzahl.\n",
      "89 ist eine Primzahl.\n",
      "97 ist eine Primzahl.\n",
      "101 ist eine Primzahl.\n",
      "103 ist eine Primzahl.\n",
      "107 ist eine Primzahl.\n",
      "109 ist eine Primzahl.\n",
      "113 ist eine Primzahl.\n",
      "127 ist eine Primzahl.\n",
      "131 ist eine Primzahl.\n",
      "137 ist eine Primzahl.\n",
      "139 ist eine Primzahl.\n",
      "149 ist eine Primzahl.\n",
      "151 ist eine Primzahl.\n",
      "157 ist eine Primzahl.\n",
      "163 ist eine Primzahl.\n",
      "167 ist eine Primzahl.\n",
      "173 ist eine Primzahl.\n",
      "179 ist eine Primzahl.\n",
      "181 ist eine Primzahl.\n",
      "191 ist eine Primzahl.\n",
      "193 ist eine Primzahl.\n",
      "197 ist eine Primzahl.\n",
      "199 ist eine Primzahl.\n",
      "211 ist eine Primzahl.\n",
      "223 ist eine Primzahl.\n",
      "227 ist eine Primzahl.\n",
      "229 ist eine Primzahl.\n",
      "233 ist eine Primzahl.\n",
      "239 ist eine Primzahl.\n",
      "241 ist eine Primzahl.\n",
      "251 ist eine Primzahl.\n",
      "257 ist eine Primzahl.\n",
      "263 ist eine Primzahl.\n",
      "269 ist eine Primzahl.\n",
      "271 ist eine Primzahl.\n",
      "277 ist eine Primzahl.\n",
      "281 ist eine Primzahl.\n",
      "283 ist eine Primzahl.\n",
      "293 ist eine Primzahl.\n",
      "307 ist eine Primzahl.\n",
      "311 ist eine Primzahl.\n",
      "313 ist eine Primzahl.\n",
      "317 ist eine Primzahl.\n",
      "331 ist eine Primzahl.\n",
      "337 ist eine Primzahl.\n",
      "347 ist eine Primzahl.\n",
      "349 ist eine Primzahl.\n",
      "353 ist eine Primzahl.\n",
      "359 ist eine Primzahl.\n",
      "367 ist eine Primzahl.\n",
      "373 ist eine Primzahl.\n",
      "379 ist eine Primzahl.\n",
      "383 ist eine Primzahl.\n",
      "389 ist eine Primzahl.\n",
      "397 ist eine Primzahl.\n",
      "401 ist eine Primzahl.\n",
      "409 ist eine Primzahl.\n",
      "419 ist eine Primzahl.\n",
      "421 ist eine Primzahl.\n",
      "431 ist eine Primzahl.\n",
      "433 ist eine Primzahl.\n",
      "439 ist eine Primzahl.\n",
      "443 ist eine Primzahl.\n",
      "449 ist eine Primzahl.\n",
      "457 ist eine Primzahl.\n",
      "461 ist eine Primzahl.\n",
      "463 ist eine Primzahl.\n",
      "467 ist eine Primzahl.\n",
      "479 ist eine Primzahl.\n",
      "487 ist eine Primzahl.\n",
      "491 ist eine Primzahl.\n",
      "499 ist eine Primzahl.\n",
      "503 ist eine Primzahl.\n",
      "509 ist eine Primzahl.\n",
      "521 ist eine Primzahl.\n",
      "523 ist eine Primzahl.\n",
      "541 ist eine Primzahl.\n",
      "547 ist eine Primzahl.\n",
      "557 ist eine Primzahl.\n",
      "563 ist eine Primzahl.\n",
      "569 ist eine Primzahl.\n",
      "571 ist eine Primzahl.\n",
      "577 ist eine Primzahl.\n",
      "587 ist eine Primzahl.\n",
      "593 ist eine Primzahl.\n",
      "599 ist eine Primzahl.\n",
      "601 ist eine Primzahl.\n",
      "607 ist eine Primzahl.\n",
      "613 ist eine Primzahl.\n",
      "617 ist eine Primzahl.\n",
      "619 ist eine Primzahl.\n",
      "631 ist eine Primzahl.\n",
      "641 ist eine Primzahl.\n",
      "643 ist eine Primzahl.\n",
      "647 ist eine Primzahl.\n",
      "653 ist eine Primzahl.\n",
      "659 ist eine Primzahl.\n",
      "661 ist eine Primzahl.\n",
      "673 ist eine Primzahl.\n",
      "677 ist eine Primzahl.\n",
      "683 ist eine Primzahl.\n",
      "691 ist eine Primzahl.\n",
      "701 ist eine Primzahl.\n",
      "709 ist eine Primzahl.\n",
      "719 ist eine Primzahl.\n",
      "727 ist eine Primzahl.\n",
      "733 ist eine Primzahl.\n",
      "739 ist eine Primzahl.\n",
      "743 ist eine Primzahl.\n",
      "751 ist eine Primzahl.\n",
      "757 ist eine Primzahl.\n",
      "761 ist eine Primzahl.\n",
      "769 ist eine Primzahl.\n",
      "773 ist eine Primzahl.\n",
      "787 ist eine Primzahl.\n",
      "797 ist eine Primzahl.\n",
      "809 ist eine Primzahl.\n",
      "811 ist eine Primzahl.\n",
      "821 ist eine Primzahl.\n",
      "823 ist eine Primzahl.\n",
      "827 ist eine Primzahl.\n",
      "829 ist eine Primzahl.\n",
      "839 ist eine Primzahl.\n",
      "853 ist eine Primzahl.\n",
      "857 ist eine Primzahl.\n",
      "859 ist eine Primzahl.\n",
      "863 ist eine Primzahl.\n",
      "877 ist eine Primzahl.\n",
      "881 ist eine Primzahl.\n",
      "883 ist eine Primzahl.\n",
      "887 ist eine Primzahl.\n",
      "907 ist eine Primzahl.\n",
      "911 ist eine Primzahl.\n",
      "919 ist eine Primzahl.\n",
      "929 ist eine Primzahl.\n",
      "937 ist eine Primzahl.\n",
      "941 ist eine Primzahl.\n",
      "947 ist eine Primzahl.\n",
      "953 ist eine Primzahl.\n",
      "967 ist eine Primzahl.\n",
      "971 ist eine Primzahl.\n",
      "977 ist eine Primzahl.\n",
      "983 ist eine Primzahl.\n",
      "991 ist eine Primzahl.\n",
      "997 ist eine Primzahl.\n"
     ]
    }
   ],
   "source": [
    "# Berechnung aller Primzahlen < 1000\n",
    "n = 2\n",
    "\n",
    "while n < 1000:\n",
    "    x = 2\n",
    "    # [n = a*b wobei a,b,n natürliche Zahlen > 1] => [a <= sqrt(n) oder b <= sqrt(n)]\n",
    "    # Deshalb genügt es, nur Teiler <= sqrt(n) zu suchen.\n",
    "    while x*x <= n:\n",
    "        # Wir verwenden Division mit Rest, um zu überprüfen, ob x die Zahl n teilt\n",
    "        if n % x == 0:\n",
    "            #print(n,'ist keine Primzahl.',x,'ist ein Teiler.')\n",
    "            # Wenn wir einen Teiler gefunden haben, können wir die Suche nach einem Teiler\n",
    "            # sofort abbrechen\n",
    "            break\n",
    "        # Wir gehen zum nächsten möglichen Teiler über.\n",
    "        x += 1\n",
    "    else:\n",
    "        # Der else-Teil der while-Schleife wird nur ausgeführt, wenn wir die Schleife nicht\n",
    "        # durch break abgebrochen haben.\n",
    "        print(n,'ist eine Primzahl.')\n",
    "\n",
    "    n += 1\n"
   ]
  }
 ],
 "metadata": {
  "kernelspec": {
   "display_name": "Python 3.10.6 64-bit",
   "language": "python",
   "name": "python3"
  },
  "language_info": {
   "codemirror_mode": {
    "name": "ipython",
    "version": 3
   },
   "file_extension": ".py",
   "mimetype": "text/x-python",
   "name": "python",
   "nbconvert_exporter": "python",
   "pygments_lexer": "ipython3",
   "version": "3.10.6"
  },
  "orig_nbformat": 4,
  "vscode": {
   "interpreter": {
    "hash": "916dbcbb3f70747c44a77c7bcd40155683ae19c65e1c03b4aa3499c5328201f1"
   }
  }
 },
 "nbformat": 4,
 "nbformat_minor": 2
}
