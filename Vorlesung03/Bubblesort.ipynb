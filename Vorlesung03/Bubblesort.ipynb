{
 "cells": [
  {
   "cell_type": "markdown",
   "metadata": {},
   "source": [
    "# Sortierverfahren\n",
    "\n",
    "## Bubblesort am Beispiel\n",
    "![](_images/Bubblesort1.svg)\n",
    "\n",
    "## Bubblesort für n=5\n",
    "![](_images/Bubblesort2.svg)\n",
    "\n",
    "## Allgemeines Schema für Bubblesort:\n",
    "![](_images/Bubblesort3.svg)\n",
    "\n",
    "## Korrektheitsbeweis und Laufzeit für Bubblesort:\n",
    "![](_images/Bubblesort4.svg)\n"
   ]
  },
  {
   "cell_type": "markdown",
   "metadata": {},
   "source": [
    "---\n",
    "\n",
    "__Beobachtung:__ Nach der $1$. Phase von $(n−1)$ kaskadierten Vergleichs- und\n",
    "Tauschoperationen befindet sich das größte Element auf der Feldposition $(n − 1)$.\n",
    "\n",
    "---\n",
    "\n",
    "__Allgemeine Invariante:__ Nach der $i$-ten Phase von $(n − i)$ kaskadierten Vergleichs-\n",
    "und Tauschoperationen befindet sich das $i$-t größte Element auf Feldposition $(n − i)$.\n",
    "\n",
    "---\n",
    "\n",
    "## Laufzeit von Bubblesort:\n",
    "\n",
    "Sei $T(n)$ die Zahl der Vergleichsoperationen beim Sortieren von $n$ Elementen\n",
    "\n",
    "$$\n",
    "\\begin{array}{rcccccccccccccc}\n",
    "T(n) &=& (n\\!-\\!1) &+& (n\\!-\\!2) &+& (n\\!-\\!3) &+& \\ldots &+& 3 &+& 2 &+& 1 \\\\[4mm]\n",
    "2\\cdot T(n) &=& (n\\!-\\!1) &\\!+\\!& (n\\!-\\!2) &+& (n\\!-\\!3) &+& \\ldots &+& 3 &+& 2 &+& 1 \\\\[2mm]\n",
    "&+& 1 &+& 2 &+& 3 &+& \\ldots &+& (n\\!-\\!3) &+& (n\\!-\\!2) &+& (n\\!-\\!1) \\\\\n",
    "\\end{array}\n",
    "$$\n",
    "\n",
    "$$\n",
    "T(n) = \\frac{n\\cdot(n-1)}{2} \\approx c\\cdot n^2\n",
    "$$\n",
    "\n",
    "$$\n",
    "T(2n) \\approx c\\cdot (2n)^2 = c\\cdot 4 n^2 \\approx 4\\cdot T(n)\n",
    "$$"
   ]
  },
  {
   "cell_type": "code",
   "execution_count": 1,
   "metadata": {},
   "outputs": [
    {
     "name": "stdout",
     "output_type": "stream",
     "text": [
      "Sortierung korrekt\n",
      "T( 1000 ) =  0.12259221076965332\n",
      "Sortierung korrekt\n",
      "T( 2000 ) =  0.46565985679626465\n",
      "Sortierung korrekt\n",
      "T( 4000 ) =  1.8948450088500977\n",
      "Sortierung korrekt\n",
      "T( 8000 ) =  7.15501594543457\n",
      "Sortierung korrekt\n",
      "T( 16000 ) =  28.994818925857544\n"
     ]
    }
   ],
   "source": [
    "import random,time\n",
    "\n",
    "# Wir messen die Laufzeit von Bubblesort für verschiedene Problemgrößen\n",
    "n = 1000\n",
    "while n <= 16000:\n",
    "    a = []\n",
    "    for i in range(0,n):\n",
    "        x = random.randint(0,1000000)\n",
    "        a.append(x)\n",
    "\n",
    "    # print(a)\n",
    "\n",
    "    # Wir starten die Stoppuhr zur Laufzeitmessung\n",
    "    t1 = time.time()\n",
    "\n",
    "    # Bubblesort arbeitet in n-1 Phasen. Die i-te Phase besteht aus n-i aufeinanderfolgenden\n",
    "    # Elementvergleichen der Form a[j] <-> a[j+1], die eine Vertauschung durchführen, wenn\n",
    "    # a[j] > a[j+1] ist.\n",
    "    # Die Korrektheit der Sortierung ergibt sich induktiv aus folgender Invariante:\n",
    "    # Nach der i-ten Phase sind die i größten Feldelemente ans Ende des Feldes gewandert\n",
    "    # und befinden sich an ihrer korrekten Position.\n",
    "\n",
    "    for i in range(1,n): # i steht für den Phasenzähler\n",
    "        # Wir führen eine Kaskade von Vergleichen benachbarter Elemente durch.\n",
    "        # Man beachte, dass in der i-ten Phase nur n-i Vergleiche nötig sind.\n",
    "        for j in range(0,n-i): # j steht für den Vergleichszähler\n",
    "            if a[j] > a[j+1]:\n",
    "                # Tausch der Werte zwischen den Variablen a[j] und a[j+1]\n",
    "                hilf = a[j]\n",
    "                a[j] = a[j+1]\n",
    "                a[j+1] = hilf\n",
    "\n",
    "    # Die theoretische Gesamtlaufzeit können wir ermitteln, indem wir die Zahl\n",
    "    # der Vergleichsoperationen zählen: n-1 in Phase 1, n-2 in Phase 2, ...,\n",
    "    # n-i in Phase i, ... 1 in Phase n-1\n",
    "    # Insgesamt: 1+2+3+...+n-1 = n*(n-1)/2 nach Gauss\n",
    "\n",
    "    # Wieviel Zeit ist seit Beginn der Laufzeitmessung vergangen?\n",
    "    t2 = time.time()\n",
    "\n",
    "    # Ein Selbsttest, um zu bestätigen, dass wir korrekt sortiert haben.\n",
    "    fehler = False\n",
    "    for j in range(0,n-1):\n",
    "        # Vergleich aufeinanderfolgender Element, um gegebenenfalls eine\n",
    "        # Fehlstellung zu entdecken\n",
    "        if a[j] > a[j+1]:\n",
    "            fehler = True\n",
    "            break\n",
    "\n",
    "    if fehler:\n",
    "        print(\"Sortierung falsch\")\n",
    "    else:\n",
    "        print(\"Sortierung korrekt\")\n",
    "    # print(a)\n",
    "\n",
    "    # Ausgabe der Laufzeit für die jeweilige Problemgröße\n",
    "    print(\"T(\", n, \") = \", t2 - t1)\n",
    "\n",
    "    # Verdopplung der Problemgröße sollte zu einer Vervierfachung der Laufzeit führen,\n",
    "    # denn T(n) = c*n^2 => T(2*n)=4*T(n)\n",
    "    n *= 2\n"
   ]
  },
  {
   "cell_type": "markdown",
   "metadata": {},
   "source": [
    "## Sortieren durch Maximumssuche"
   ]
  },
  {
   "cell_type": "code",
   "execution_count": 2,
   "metadata": {},
   "outputs": [
    {
     "name": "stdout",
     "output_type": "stream",
     "text": [
      "Laufzeit =  11.940583944320679\n",
      "Die Sortierung ist fehlerfrei.\n"
     ]
    }
   ],
   "source": [
    "import random\n",
    "import time\n",
    "\n",
    "# Anlegen einer leeren Liste / eines leeren Feldes\n",
    "L = []\n",
    "for i in range(16000):\n",
    "    x = random.randint(0,1000000)\n",
    "    # Wir fügen eine Zufallszahl an das Ende der Liste an\n",
    "    L.append(x)\n",
    "\n",
    "#print(L)\n",
    "\n",
    "# Wir wollen die Laufzeit für das Sortieren experimentell ermitteln,\n",
    "# indem wir die Zeit stoppen.\n",
    "t1 = time.time()\n",
    "\n",
    "# Wir sortieren die Elemente unseres Feldes, indem wir wiederholt die Position imax\n",
    "# eines größten Elementes im Feld suchen und dieses ans Feldende tauschen: L[imax] <-> L[n-1]\n",
    "# Nach diesem Tausch tun wir so, als ob die Feldlänge n um eins abgenommen hat.\n",
    "for n in range(len(L),1,-1):\n",
    "    # Wir starten mit der Annahme, dass das Element an Indexposition 0 ein größtes Element ist.\n",
    "    imax = 0\n",
    "    # Wir durchlaufen die Feldpositionen bis zum virtuellen Feldende. Wir lassen also die\n",
    "    # Elemente außer Acht, die zuvor ans Feldende getauscht wurden und somit in der Sortierung\n",
    "    # schon an ihrer richtigen Position stehen.\n",
    "\n",
    "    for i in range(1,n):\n",
    "        if L[i] > L[imax]:\n",
    "            # Wir haben ein Element gefunden, das größer als das bisherige ist.\n",
    "            imax = i\n",
    "\n",
    "    # Wir vollziehen den Tausch unter Verwendung der Hilfsvariable hilf.\n",
    "    hilf = L[imax]\n",
    "    L[imax] = L[n-1]\n",
    "    L[n-1] = hilf\n",
    "\n",
    "# Wir stoppen die Zeit.\n",
    "t2 = time.time()\n",
    "\n",
    "print('Laufzeit = ',t2-t1)\n",
    "\n",
    "# Wir führen einen Selbsttest durch, um entscheiden zu können, ob ein Fehler\n",
    "# in der Sortierung vorliegt.\n",
    "for i in range(len(L)-1):\n",
    "    if L[i] > L[i+1]:\n",
    "        print('Die Sortierung ist fehlerhaft.')\n",
    "        break\n",
    "else:\n",
    "    print('Die Sortierung ist fehlerfrei.')\n"
   ]
  }
 ],
 "metadata": {
  "kernelspec": {
   "display_name": "Python 3.10.6 64-bit",
   "language": "python",
   "name": "python3"
  },
  "language_info": {
   "codemirror_mode": {
    "name": "ipython",
    "version": 3
   },
   "file_extension": ".py",
   "mimetype": "text/x-python",
   "name": "python",
   "nbconvert_exporter": "python",
   "pygments_lexer": "ipython3",
   "version": "3.10.6"
  },
  "orig_nbformat": 4,
  "vscode": {
   "interpreter": {
    "hash": "916dbcbb3f70747c44a77c7bcd40155683ae19c65e1c03b4aa3499c5328201f1"
   }
  }
 },
 "nbformat": 4,
 "nbformat_minor": 2
}
