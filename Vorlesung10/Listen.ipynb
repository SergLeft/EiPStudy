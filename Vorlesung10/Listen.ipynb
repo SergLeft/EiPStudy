{
 "cells": [
  {
   "attachments": {},
   "cell_type": "markdown",
   "metadata": {},
   "source": [
    "# Einfach verkettete Listen\n",
    "\n",
    "![](_images/ADT-Liste.svg)"
   ]
  },
  {
   "cell_type": "code",
   "execution_count": 1,
   "metadata": {},
   "outputs": [
    {
     "data": {
      "text/html": [
       "<video src=\"_images/Listen.mp4\" controls  width=\"1280\" >\n",
       "      Your browser does not support the <code>video</code> element.\n",
       "    </video>"
      ],
      "text/plain": [
       "<IPython.core.display.Video object>"
      ]
     },
     "execution_count": 1,
     "metadata": {},
     "output_type": "execute_result"
    }
   ],
   "source": [
    "from IPython import display\n",
    "\n",
    "display.Video(width=1280,filename=\"_images/Listen.mp4\",html_attributes='controls')"
   ]
  },
  {
   "cell_type": "code",
   "execution_count": 1,
   "metadata": {},
   "outputs": [
    {
     "name": "stdout",
     "output_type": "stream",
     "text": [
      "9 8 7 6 5 4 3 2 1 0 \n",
      "8 7 6 5 4 3 2 1 0 \n"
     ]
    }
   ],
   "source": [
    "class Listenknoten:\n",
    "    # Konstruktor für einen Listenknoten bestehend aus Inhalt\n",
    "    # und Verweis auf den nachfolgenden Listenknoten.\n",
    "    def __init__(self,inhalt):\n",
    "        self.inhalt = inhalt\n",
    "        self.next = None\n",
    "\n",
    "# Die Klasse Liste als abstrakte Datenstruktur.\n",
    "class Liste:\n",
    "    def __init__(self):\n",
    "        self.kopf = None\n",
    "\n",
    "    # Hinzufügen eines neuen Listenelementes am Anfang der Liste.\n",
    "    def einfuege(self,inhalt):\n",
    "        knoten = Listenknoten(inhalt)\n",
    "        knoten.next = self.kopf\n",
    "        self.kopf = knoten\n",
    "\n",
    "    # Suche nach dem Listenknoten mit dem Inhalt element.\n",
    "    # Der Einfachheit halber bestimmen wir nur, ob das gesuchte Element in der Liste vorhanden ist.\n",
    "    def suche(self,element):\n",
    "        # Wir beginnen die Suche am Kopf der Liste\n",
    "        knoten = self.kopf\n",
    "        # und laufen bis zum Ende der Liste.\n",
    "        while knoten != None:\n",
    "            if knoten.inhalt == element:\n",
    "                # Wir haben das gesuchte Element gefunden.\n",
    "                return(True)\n",
    "            # Wir gehen zum Nachfolger des aktuellen Listenknotens über.\n",
    "            knoten = knoten.next\n",
    "        # Wir haben das Listenende erreicht, ohne das gesuchte Element gefunden zu haben.\n",
    "        return(False)\n",
    "    \n",
    "    # Löschen des ersten Listenknotens mit dem Inhalt element.\n",
    "    def loesche(self,element):\n",
    "        # Wir starten wieder am Kopf der Liste.\n",
    "        knoten = self.kopf\n",
    "        # Wir merken uns beim Durchlaufen der Liste den Vorgängerknoten des aktuellen Listenknotens.\n",
    "        vorgaenger = None\n",
    "        while knoten != None:\n",
    "            if knoten.inhalt == element:\n",
    "                # Wir haben den zu löschenden Listenknoten gefunden.\n",
    "                if vorgaenger == None:\n",
    "                    # Wir müssen den Fall gesondert behandeln, wenn das erste Element der Liste gelöscht werden soll.\n",
    "                    self.kopf = knoten.next\n",
    "                else:\n",
    "                    # Wir setzen den Nachfolgerverweis des Vorgängers auf den Nachfolger des zu löschenden Knotens.\n",
    "                    vorgaenger.next = knoten.next\n",
    "                return\n",
    "            # Wir gehen zum nächsten Listenknoten über und aktualisieren auch den Vorgänger.\n",
    "            vorgaenger = knoten\n",
    "            knoten = knoten.next\n",
    "\n",
    "    # Überladen der str-Funktion zur Ausgabe der kompletten Liste.\n",
    "    def __str__(self):\n",
    "        s = ''\n",
    "        knoten = self.kopf\n",
    "        while knoten != None:\n",
    "            s += str(knoten.inhalt)+' '\n",
    "            knoten = knoten.next\n",
    "        return(s)\n",
    "\n",
    "# Anlegen einer leeren Liste durch Aufruf des Konstruktors für Liste.\n",
    "L = Liste()\n",
    "# Sukzessives Einfügen der Elemente [0..9]\n",
    "for i in range(10):\n",
    "    L.einfuege(i)\n",
    "# Ausgabe der Liste durch Aufruf der überladenen str-Funktion.\n",
    "print(L)\n",
    "# Löschen des Elementes 9.\n",
    "L.loesche(9)\n",
    "# Erneute Ausgabe.\n",
    "print(L)\n",
    "\n"
   ]
  }
 ],
 "metadata": {
  "kernelspec": {
   "display_name": "Python 3",
   "language": "python",
   "name": "python3"
  },
  "language_info": {
   "codemirror_mode": {
    "name": "ipython",
    "version": 3
   },
   "file_extension": ".py",
   "mimetype": "text/x-python",
   "name": "python",
   "nbconvert_exporter": "python",
   "pygments_lexer": "ipython3",
   "version": "3.10.6 (main, Nov 14 2022, 16:10:14) [GCC 11.3.0]"
  },
  "orig_nbformat": 4,
  "vscode": {
   "interpreter": {
    "hash": "916dbcbb3f70747c44a77c7bcd40155683ae19c65e1c03b4aa3499c5328201f1"
   }
  }
 },
 "nbformat": 4,
 "nbformat_minor": 2
}
