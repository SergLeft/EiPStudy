{
 "cells": [
  {
   "cell_type": "markdown",
   "metadata": {},
   "source": [
    "# Gerichtete Graphen:"
   ]
  },
  {
   "cell_type": "markdown",
   "metadata": {},
   "source": [
    "![](_images/Graph1.svg)"
   ]
  },
  {
   "cell_type": "markdown",
   "metadata": {},
   "source": [
    "## Repräsentation eines Graphen mit Hilfe von Adjazenzlisten:"
   ]
  },
  {
   "cell_type": "markdown",
   "metadata": {},
   "source": [
    "![](_images/Graph3.svg)"
   ]
  },
  {
   "cell_type": "markdown",
   "metadata": {},
   "source": [
    "## Breitensuche:"
   ]
  },
  {
   "cell_type": "code",
   "execution_count": 6,
   "metadata": {},
   "outputs": [
    {
     "data": {
      "text/html": [
       "<video src=\"_images/BFS.mp4\" controls  width=\"1024\" >\n",
       "      Your browser does not support the <code>video</code> element.\n",
       "    </video>"
      ],
      "text/plain": [
       "<IPython.core.display.Video object>"
      ]
     },
     "execution_count": 6,
     "metadata": {},
     "output_type": "execute_result"
    }
   ],
   "source": [
    "from IPython import display\n",
    "\n",
    "display.Video(width=1024,filename=\"_images/BFS.mp4\",html_attributes='controls')"
   ]
  },
  {
   "cell_type": "code",
   "execution_count": null,
   "metadata": {},
   "outputs": [],
   "source": [
    "datei = open('data/huepfburg0.txt','r')\n",
    "# Wir lesen zunaechst nur die erste Zeile der Datei\n",
    "zeile = datei.readline()\n",
    "# Dort finden wir die Zahl der Knoten |V| und die Zahl |E| der Kanten des Graphen G\n",
    "nve = zeile.split()\n",
    "\n",
    "print(int(nve[0]),int(nve[1]))\n",
    "\n",
    "# n = |V|\n",
    "n = int(nve[0])\n",
    "\n",
    "# Initialisierung einer leeren Adjazenzliste\n",
    "G = [[] for i in range(n+1)]\n",
    "\n",
    "# In jeder neuen Zeile der Datei finden wir eine gerichtete Kante (u->v) des Graphen G\n",
    "# Wir fuegen Kante fuer Kante zu der Adjazenzliste von G\n",
    "for zeile in datei:\n",
    "    kante = zeile.split()\n",
    "    u = int(kante[0])\n",
    "    v = int(kante[1])\n",
    "    G[u].append(v)\n",
    "datei.close()\n",
    "\n",
    "# Wir geben zur Kontrolle die Adjazenliste von G aus\n",
    "for i in range(len(G)):\n",
    "    print(i,\" : \",G[i])\n",
    "\n",
    "# Es folgt die Breitensuche.\n",
    "\n",
    "# Wir initialisieren zwei Hilfsfelder.\n",
    "# Ein boolesches Feld 'besucht' zur Markierung der bereits besuchten Knoten von G \n",
    "besucht = [ False for i in range(n+1)] \n",
    "# Ein Vorgaengerfeld 'pred' zum Speichern des Knotens, von wo aus wir einen neuen Knoten entdeckt haben.\n",
    "pred = [ 0 for i in range(n+1)]\n",
    "\n",
    "# Wir suchen vom Startknoten '1' die kuerzesten Wege zu allen anderen Knoten in G.\n",
    "# Unter einem kuerzesten Weg verstehen wir einen Weg, der die kleinst mögliche Zahl von Kanten benutzt.\n",
    "Q = [1]\n",
    "besucht[1] = True\n",
    "\n",
    "# Das Feld Q fungiert als Warteschlange\n",
    "while len(Q) > 0:\n",
    "    # Wir bearbeiten stets den Knoten u am Kopf der Warteschlange.\n",
    "    u = Q.pop(0)\n",
    "    # Dazu schauen wir uns alle von u ausgehenden Kante in der Adjazenzliste G[u] an.\n",
    "    for v in G[u]:\n",
    "        # Wir untersuchen, ob die Kante u-> zu einem noch nicht besuchten Knoten v fuehrt.\n",
    "        if not besucht[v]:\n",
    "            # Wir fuegen den neu entdeckten Knoten zur Warteschlange Q hinzu\n",
    "            Q.append(v)\n",
    "            # und markieren v als besucht, um v zu einem spaeteren Zeitpunkt nicht erneut in Q aufzunehmen.\n",
    "            besucht[v] = True\n",
    "            # Wir merken uns im Vorgaengerfeld, dass wir v von u aus entdeckt haben.\n",
    "            pred[v] = u\n",
    "\n",
    "# Durch Rueckwaertsverfolgung der Vorgaengerverweise folgen wir einem kuerzesten Weg \n",
    "# vom Zielknoten 2 zum Startknoten 1.\n",
    "u = 2\n",
    "print(u,end='')\n",
    "while u != 1:\n",
    "    v = pred[u]\n",
    "    print(' -> ',v,end='')\n",
    "    u = v\n"
   ]
  },
  {
   "cell_type": "markdown",
   "metadata": {},
   "source": [
    "![](_images/Graph2.svg)"
   ]
  }
 ],
 "metadata": {
  "kernelspec": {
   "display_name": "Python 3.10.4 64-bit",
   "language": "python",
   "name": "python3"
  },
  "language_info": {
   "codemirror_mode": {
    "name": "ipython",
    "version": 3
   },
   "file_extension": ".py",
   "mimetype": "text/x-python",
   "name": "python",
   "nbconvert_exporter": "python",
   "pygments_lexer": "ipython3",
   "version": "3.10.6"
  },
  "orig_nbformat": 4,
  "vscode": {
   "interpreter": {
    "hash": "916dbcbb3f70747c44a77c7bcd40155683ae19c65e1c03b4aa3499c5328201f1"
   }
  }
 },
 "nbformat": 4,
 "nbformat_minor": 2
}
