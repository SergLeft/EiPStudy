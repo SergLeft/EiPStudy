{
 "cells": [
  {
   "cell_type": "code",
   "execution_count": null,
   "metadata": {},
   "outputs": [
    {
     "name": "stdout",
     "output_type": "stream",
     "text": [
      "[1, 3, 5, 0, 2, 4]\n"
     ]
    }
   ],
   "source": [
    "'''\n",
    "def vervollstaendige(K):\n",
    "    if ist_vollstaendig(K):\n",
    "        return(True)\n",
    "    foreach E:\n",
    "        erweitere(K,E)\n",
    "        if zulaessig(K):\n",
    "            if vervollstaendige(K):\n",
    "                return(True)\n",
    "        mache_rueckgaenig(K,E)\n",
    "    \n",
    "    return(False)\n",
    "'''\n",
    "\n",
    "def zulaessig(y):\n",
    "    k = len(y)-1\n",
    "    for i in range(k):\n",
    "        if y[i] == y[k]:\n",
    "            return(False)\n",
    "        if abs(y[k]-y[i]) == k-i:\n",
    "            return(False)\n",
    "    return(True)\n",
    "\n",
    "def vervollstaendige(K):\n",
    "    if len(K) == n:\n",
    "        return(True)\n",
    "    for y in range(n):\n",
    "        K.append(y)\n",
    "        if zulaessig(K):\n",
    "            if vervollstaendige(K):\n",
    "                return(True)\n",
    "        K.pop()\n",
    "    return(False)\n",
    "\n",
    "# K = [y0,y1,y2,...]\n",
    "\n",
    "K = []\n",
    "n = 6\n",
    "vervollstaendige(K)\n",
    "print(K)"
   ]
  }
 ],
 "metadata": {
  "kernelspec": {
   "display_name": "Python 3",
   "language": "python",
   "name": "python3"
  },
  "language_info": {
   "codemirror_mode": {
    "name": "ipython",
    "version": 3
   },
   "file_extension": ".py",
   "mimetype": "text/x-python",
   "name": "python",
   "nbconvert_exporter": "python",
   "pygments_lexer": "ipython3",
   "version": "3.12.3"
  }
 },
 "nbformat": 4,
 "nbformat_minor": 2
}
