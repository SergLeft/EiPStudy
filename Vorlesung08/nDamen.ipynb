{
 "cells": [
  {
   "cell_type": "markdown",
   "metadata": {},
   "source": [
    "![](../_images/Titel.svg)"
   ]
  },
  {
   "cell_type": "markdown",
   "metadata": {},
   "source": [
    "# Backtracking\n",
    "\n",
    "## Das n-Damen-Problem\n"
   ]
  },
  {
   "cell_type": "code",
   "execution_count": 4,
   "metadata": {},
   "outputs": [
    {
     "data": {
      "text/html": [
       "<video src=\"_images/nDamen.mp4\" controls  width=\"600\" >\n",
       "      Your browser does not support the <code>video</code> element.\n",
       "    </video>"
      ],
      "text/plain": [
       "<IPython.core.display.Video object>"
      ]
     },
     "execution_count": 4,
     "metadata": {},
     "output_type": "execute_result"
    }
   ],
   "source": [
    "from IPython import display\n",
    "\n",
    "display.Video(width=600,filename=\"_images/nDamen.mp4\",html_attributes='controls')"
   ]
  },
  {
   "attachments": {},
   "cell_type": "markdown",
   "metadata": {},
   "source": [
    "![](_images/Schlagen.svg)"
   ]
  },
  {
   "attachments": {},
   "cell_type": "markdown",
   "metadata": {},
   "source": [
    "![](_images/TrialAndError.png)"
   ]
  },
  {
   "cell_type": "code",
   "execution_count": null,
   "metadata": {},
   "outputs": [],
   "source": [
    "# Lösung des n-Damen Problems mittels Backtracking\n",
    "# Siehe https://de.wikipedia.org/wiki/Damenproblem\n",
    "# Wir kodieren eine Stellung der Damen auf einem nxn Schachbrett,\n",
    "# indem wir ein eindimensionales Feld S benutzen.\n",
    "# Pro Spalte i kann sich nur eine Dame aufhalten. Die Dame\n",
    "# in Spalte i befinde sich in der Zeile S[i].\n",
    "\n",
    "# Überprüfung der Zulässigkeit einer Stellung S.\n",
    "# Die Stellung muss noch nicht vollständig sein.\n",
    "def zulaessig(S):\n",
    "    # Es wurden bisher k Damen in den Spalten 0 bis k-1 platziert.\n",
    "    k = len(S)\n",
    "    # Wir überprüfen, ob die zuletzt platzierte Dame in Spalte (k-1)\n",
    "    # eine zuvor platzierte Dame schlagen kann.\n",
    "    for i in range(k-1):\n",
    "        if S[i] == S[k - 1]:\n",
    "            # Die Dame in Spalte i steht in der selben Zeile wie die\n",
    "            # Dame in der (k-1)-ten Spalte.\n",
    "            return(False)\n",
    "        if (S[k-1]-S[i]) == k-1-i:\n",
    "            # Die Dame in Spalte i und die Dame in Spalte (k-1) können\n",
    "            # sich diagonal schlagen.\n",
    "            return(False)\n",
    "        if (S[k-1]-S[i]) == -(k-1-i):\n",
    "            # Analog zum vorherigen Fall, mit negativer Diagonalensteigung.\n",
    "            return(False)\n",
    "    return(True)\n",
    "\n",
    "\n",
    "# Im Backtracking-Algorithmus versuchen wir, eine Teillösung, die durch das\n",
    "# Feld S kodiert ist, zu vervollständigen.\n",
    "# Man beachte, dass das Feld S in der Funktion vervollstaendige verändert wird.\n",
    "def vervollstaendige(S):\n",
    "    # Der Rekursionsanker.\n",
    "    if len(S) == n:\n",
    "        # Wir haben eine vollständige Lösung mit n Damen gefunden.\n",
    "        return(True)\n",
    "    # Wir suchen eine Platzierung für die Dame in der nächsten Spalte.\n",
    "    # Dafür kommen alle Positionen innerhalb dieser Spalte in Frage.\n",
    "    for i in range(n):\n",
    "        # Wir hängen die gewählte Position/Zeilennummer an unser Stellungsfeld an\n",
    "        S.append(i)\n",
    "        # und überprüfen, ob die dadurch neu geschaffene Stellung zulässig ist.\n",
    "        if zulaessig(S):\n",
    "            # Wenn die Platzierung der neuen Dame zulässig ist, versuchen wir\n",
    "            # rekursiv die so erweiterte Teillösung zu vervollständigen.\n",
    "            if vervollstaendige(S):\n",
    "                # Es ist uns gelungen, eine Gesamtlösung zu finden. Deshalb brechen\n",
    "                # wir die Suche ab. Das Stellungsfeld S beinhaltet die gefundene Lösung.\n",
    "                return(True)\n",
    "        # Die zuvor erzeugte Teillösung war nicht zulässig oder hat sich nicht\n",
    "        # vervollständigen lassen. Deshalb nehmen wir diese Platzierung der Dame zurück,\n",
    "        # indem wir die zuletzt platzierte Dame am Feldende wieder löschen.\n",
    "        S.pop()\n",
    "    # Es ist uns nicht gelungen, die Teillösung, von der wir gestartet sind, um eine\n",
    "    # weitere Dame zu ergänzen. Deshalb melden wir der aufrufenden Funktion zurück, dass\n",
    "    # diese Teillösung nicht Teil einer Gesamtlösung sein kann.\n",
    "    # Auf diese Weise ersparen wir es uns, all die denkbaren Stellungen von n Damen\n",
    "    # anzuschauen, die sich als Vervollständigung der betrachteten Startstellung ergeben\n",
    "    # könnten.\n",
    "    return(False)\n",
    "\n",
    "# Die Problemgröße als globale Variable\n",
    "n = 6\n",
    "# Wir starten mit der leeren Stellung, bei der noch keine Dame gesetzt wurde.\n",
    "S = []\n",
    "# Wir suchen nach einer Lösung.\n",
    "print(vervollstaendige(S))\n",
    "# Wir geben die erste gefundene Lösung aus.\n",
    "print(S)"
   ]
  }
 ],
 "metadata": {
  "kernelspec": {
   "display_name": "Python 3.10.6 64-bit",
   "language": "python",
   "name": "python3"
  },
  "language_info": {
   "codemirror_mode": {
    "name": "ipython",
    "version": 3
   },
   "file_extension": ".py",
   "mimetype": "text/x-python",
   "name": "python",
   "nbconvert_exporter": "python",
   "pygments_lexer": "ipython3",
   "version": "3.10.6 (main, Nov 14 2022, 16:10:14) [GCC 11.3.0]"
  },
  "orig_nbformat": 4,
  "vscode": {
   "interpreter": {
    "hash": "916dbcbb3f70747c44a77c7bcd40155683ae19c65e1c03b4aa3499c5328201f1"
   }
  }
 },
 "nbformat": 4,
 "nbformat_minor": 2
}
