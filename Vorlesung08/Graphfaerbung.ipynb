{
 "cells": [
  {
   "cell_type": "markdown",
   "metadata": {},
   "source": [
    "# Das Vier-Farben-Problem"
   ]
  },
  {
   "cell_type": "markdown",
   "metadata": {},
   "source": [
    "![](_images/USMap0.svg)"
   ]
  },
  {
   "cell_type": "markdown",
   "metadata": {},
   "source": [
    "![](_images/USMap1.svg)"
   ]
  },
  {
   "cell_type": "markdown",
   "metadata": {},
   "source": [
    "![](_images/USMap2.svg)"
   ]
  },
  {
   "cell_type": "markdown",
   "metadata": {},
   "source": [
    "![](_images/USMap3.svg)"
   ]
  },
  {
   "cell_type": "markdown",
   "metadata": {},
   "source": [
    "![](_images/USMap4.svg)"
   ]
  },
  {
   "cell_type": "markdown",
   "metadata": {},
   "source": [
    "![](../_images/USMap0.svg)"
   ]
  },
  {
   "cell_type": "code",
   "execution_count": null,
   "metadata": {},
   "outputs": [],
   "source": [
    "def faerbeKnoten(u,farbe):\n",
    "    if u == len(farbe): \n",
    "        return(True)\n",
    "    for f in range(1,5):\n",
    "        farbe[u] = f\n",
    "        for v in G[u]:\n",
    "            if farbe[v] == farbe[u]: \n",
    "                break\n",
    "        else:\n",
    "            if faerbeKnoten(u+1,farbe): \n",
    "                return(True)\n",
    "        farbe[u] = 0\n",
    "    return(False)\n",
    "\n",
    "G = [[],[2],[1,3,4],[2,4,7],[2,3,5,6,7],[4,6],[4,5,7],[3,4,6,8,11],[7,9,11],[8,10],[9,11,12,13],\n",
    "     [7,8,10,12,21],[10,11,13,20,21],[10,12,14,19,20],[13,15,16,19],[14,16],[14,15,17,18,19],\n",
    "     [16,18],[16,17,19,29],[13,14,16,18,29,28,27,20],[12,13,19,27,24,23,21],[11,12,20,22,23],\n",
    "     [21,23,25],[20,21,22,24],[20,23,25,26,27],[22,24,26,36],[24,25,36,34,27],[19,20,24,26,33,32,28],\n",
    "     [19,29,30,31,32,27],[18,19,28,30],[28,29,31],[30,28,32,41],[27,28,31,33,40,41],[27,32,34,40],\n",
    "     [26,33,35,39,40],[34,36,37,38,39],[25,26,35,37],[35,36,38],[35,37,39,44],[34,35,38,40,43,44],\n",
    "     [32,33,34,39,41,43],[31,32,40,42],[41,43,47,48],[39,40,41,44,47],[38,39,43,45,46,47],\n",
    "     [44,46],[44,45,47,48],[42,43,44,46,48],[42,46,47],[],[]]\n",
    "\n",
    "# G = [[2,3],[2,4],[0,1,3,4],[0,2,4],[1,2,3]]\n",
    "farbe = [0 for i in range(len(G))]\n",
    "print(faerbeKnoten(0,farbe))\n",
    "print(farbe)\n"
   ]
  }
 ],
 "metadata": {
  "kernelspec": {
   "display_name": "Python 3",
   "language": "python",
   "name": "python3"
  },
  "language_info": {
   "codemirror_mode": {
    "name": "ipython",
    "version": 3
   },
   "file_extension": ".py",
   "mimetype": "text/x-python",
   "name": "python",
   "nbconvert_exporter": "python",
   "pygments_lexer": "ipython3",
   "version": "3.12.3"
  },
  "orig_nbformat": 4,
  "vscode": {
   "interpreter": {
    "hash": "916dbcbb3f70747c44a77c7bcd40155683ae19c65e1c03b4aa3499c5328201f1"
   }
  }
 },
 "nbformat": 4,
 "nbformat_minor": 2
}
