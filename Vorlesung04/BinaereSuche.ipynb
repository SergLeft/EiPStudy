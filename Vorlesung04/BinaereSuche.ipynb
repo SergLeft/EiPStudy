{
 "cells": [
  {
   "cell_type": "markdown",
   "metadata": {},
   "source": [
    "![](../_images/Titel.svg)"
   ]
  },
  {
   "cell_type": "markdown",
   "metadata": {},
   "source": [
    "# Binäre Suche:\n",
    "\n",
    "![](_images/BinaereSuche1.svg)\n",
    "![](_images/BinaereSuche2.svg)\n",
    "![](_images/BinaereSuche3.svg)\n",
    "![](_images/BinaereSuche4.svg)\n",
    "![](_images/BinaereSuche5.svg)\n",
    "![](_images/BinaereSuche6.svg)"
   ]
  },
  {
   "cell_type": "markdown",
   "metadata": {},
   "source": [
    "Größe des verbleibenden Suchbereiches nach dem $k$-ten Unterteilungsschritt $=\\frac{n}{2 ^k}$\n",
    "\n",
    "__Frage:__ Wie viele Unterteilungsschritte sind notwendig, um ein Wort zu finden?\n",
    "\n",
    "$$\n",
    "\\begin{array}{ccc}\n",
    "\\frac{n}{2^k} & \\leq & 1 \\\\\n",
    "n & \\leq & 2^k \\\\\n",
    "\\log_2(n) & \\leq & k\n",
    "\\end{array}\n",
    "$$\n",
    "\n",
    "__Antwort:__ Nach $k = \\lceil\\log_2(n)\\rceil$ Schritten haben wir das Suchwort gefunden\n",
    "oder erkannt, dass es nicht vorhanden ist.\n",
    "\n",
    "__Beispiel:__ $$n = 2.000.000 \\approx 2^{21},\n",
    "\\lceil\\log_2(n)\\rceil = 21.$$"
   ]
  },
  {
   "cell_type": "code",
   "execution_count": null,
   "metadata": {},
   "outputs": [],
   "source": [
    "import time\n",
    "\n",
    "# Wir öffnen die utf-8-Datei der deutschen Wörter zum Lesen.\n",
    "# datei = open('data/Deutsche-Woerter.txt','r',encoding='utf-8')\n",
    "datei = open('data/Substantive.txt','r',encoding='iso-8859-1')\n",
    "# Wir initialisieren eine leere Wortliste namens lexikon.\n",
    "lexikon = []\n",
    "# Wir lesen die Textdatei zeilenweise.\n",
    "for zeile in datei:\n",
    "    # Wir splitten die Zeichenkette zeile in einzelne Wörter anhand von Whitespace-Zeichen.\n",
    "    wortListe = zeile.split()\n",
    "    # In unserem Fall erhalten wir nur ein Wort pro Zeile - ohne Zeilenvorschub.\n",
    "    # Wir hängen dieses Wort ans Ende unseres Lexikons.\n",
    "    lexikon.append(wortListe[0])\n",
    "# Wir schließen die Datei.\n",
    "datei.close()\n",
    "# Wir sortieren die Wörter im Lexikon lexikographisch.\n",
    "lexikon.sort()\n",
    "# Wir öffnen eine neue Textdatei zum Schreiben.\n",
    "datei = open('data/Lexikon.txt','w',encoding='utf-8')\n",
    "# Wir schreiben der Reihe nach alle Wörter unserer sortierten Wortliste zeilenweise in die Datei.\n",
    "for wort in lexikon:\n",
    "    # Nach jedem Wort findet ein Zeilenvorschub statt.\n",
    "    datei.write(wort+'\\n')\n",
    "# Wir schließen die Datei wieder.\n",
    "datei.close()\n",
    "\n",
    "# Wir definieren ein Suchwort.\n",
    "suchwort = 'Programm'\n",
    "# Wir stoppen die Zeit für die binäre Suche.\n",
    "t1 = time.time()\n",
    "\n",
    "# Wir wollen folgende Invariante während der binären Suche aufrechterhalten:\n",
    "# lexikon[links] <= suchwort <= lexikon[rechts]\n",
    "\n",
    "n = len(lexikon)\n",
    "# Zu Beginn setzen wir die linke Grenze des Suchintervalls auf die Listenposition 0\n",
    "# und die rechte Grenze auf die Position des Listenendes.\n",
    "links = 0\n",
    "rechts = n-1\n",
    "# i zählt die Zahl der Unterteilungsschritte.\n",
    "i = 0\n",
    "# Solange das Suchintervall nicht leer geworden ist, setzen wir die Suche fort.\n",
    "while links <= rechts:\n",
    "     # Wir berechnen die Mitte des Suchintervalls.\n",
    "    mitte = (links+rechts)//2\n",
    "    # Wir geben zur Kontrolle das Wort in der Mitte des aktuellen Suchintervalls aus.\n",
    "    print(lexikon[mitte])\n",
    "    i += 1\n",
    "    # Wir entscheiden, ob wir die Suche links von der Mitte fortsetzen sollen.\n",
    "    if suchwort < lexikon[mitte]:\n",
    "        # und passen dementsprechend die neue rechte Grenze an.\n",
    "        rechts = mitte-1\n",
    "    # Wir überprüfen, ob wir die Suche rechts der Mitte fortsetzen sollen.\n",
    "    elif suchwort > lexikon[mitte]:\n",
    "        # und passen die neue linke Grenze an.\n",
    "        links = mitte+1\n",
    "    else:\n",
    "        # Wir haben das Suchwort gefunden\n",
    "        gefunden = True\n",
    "        # und können die Suche abbrechen.\n",
    "        break\n",
    "else:\n",
    "    # Das Suchwort konnte nicht gefunden werden.\n",
    "    gefunden = False\n",
    "\n",
    "# Wir stoppen erneut die Zeit.\n",
    "t2 = time.time()\n",
    "\n",
    "# Wir geben aus, ob wir das Wort in unserem Lexikon gefunden haben.\n",
    "print(gefunden)\n",
    "# Wir geben die benötigte Laufzeit aus\n",
    "print('Laufzeit = ',t2-t1)\n",
    "# und auch die Zahl der Unterteilungsschritte.\n",
    "print('Zahl der Suchschritte = ',i)\n"
   ]
  }
 ],
 "metadata": {
  "kernelspec": {
   "display_name": "Python 3.10.6 64-bit",
   "language": "python",
   "name": "python3"
  },
  "language_info": {
   "codemirror_mode": {
    "name": "ipython",
    "version": 3
   },
   "file_extension": ".py",
   "mimetype": "text/x-python",
   "name": "python",
   "nbconvert_exporter": "python",
   "pygments_lexer": "ipython3",
   "version": "3.10.6"
  },
  "orig_nbformat": 4,
  "vscode": {
   "interpreter": {
    "hash": "916dbcbb3f70747c44a77c7bcd40155683ae19c65e1c03b4aa3499c5328201f1"
   }
  }
 },
 "nbformat": 4,
 "nbformat_minor": 2
}
