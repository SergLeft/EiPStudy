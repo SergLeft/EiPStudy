{
 "cells": [
  {
   "cell_type": "markdown",
   "metadata": {},
   "source": [
    "## Zweidimensionale Felder:"
   ]
  },
  {
   "cell_type": "markdown",
   "metadata": {},
   "source": [
    "![](_images/Rheinland-Pfalz.svg)"
   ]
  },
  {
   "cell_type": "code",
   "execution_count": 1,
   "metadata": {},
   "outputs": [
    {
     "name": "stdout",
     "output_type": "stream",
     "text": [
      "Entfernung =  71\n"
     ]
    }
   ],
   "source": [
    "# Das eindimensionale Feld der Städtenamen.\n",
    "stadt = ['MZ', 'KO', 'TR', 'SP', 'WO', 'KL', 'LU']\n",
    "\n",
    "# Das zweidimensionale Feld der Abstandstabelle.\n",
    "dist = [[0, 61, 119, 77, 41, 71, 61],\n",
    "        [61, 0, 95, 129, 97, 101, 116],\n",
    "        [119, 95, 0, 137, 124, 87, 133],\n",
    "        [77,129, 137, 0, 35, 50, 17],\n",
    "        [41, 97, 124, 35, 0, 48, 19],\n",
    "        [71, 101, 87, 50, 48, 0, 49],\n",
    "        [61, 116, 133, 17, 19, 49, 0]]\n",
    "\n",
    "A = input('Von ?')\n",
    "B = input('Nach ?')\n",
    "\n",
    "# Die beiden Indizes der Start- und der Zielstadt. \n",
    "Aidx = stadt.index(A)\n",
    "Bidx = stadt.index(B)\n",
    "\n",
    "print('Entfernung = ',dist[Aidx][Bidx])"
   ]
  },
  {
   "cell_type": "markdown",
   "metadata": {},
   "source": [
    "![](_images/Kugelkoordinaten.svg)"
   ]
  },
  {
   "cell_type": "markdown",
   "metadata": {},
   "source": [
    "![](_images/Luftlinie.svg)"
   ]
  },
  {
   "cell_type": "code",
   "execution_count": 3,
   "metadata": {},
   "outputs": [
    {
     "name": "stdout",
     "output_type": "stream",
     "text": [
      "Entfernung =  61.40696142511003\n"
     ]
    }
   ],
   "source": [
    "import math\n",
    "\n",
    "# Wir führen drei Listen für die Städtenamen, die Breitengrade und die Längengrade\n",
    "stadt = []\n",
    "breitengrad = []\n",
    "laengengrad = []\n",
    "\n",
    "# Wir öffnen die Städte-Datei zum Lesen.\n",
    "datei = open('data/Staedte.txt','r',encoding='utf-8')\n",
    "# Wir lesen die Datei zeilenweise.\n",
    "for zeile in datei:\n",
    "    # Wir splitten die Zeile in ihre drei Bestandteile anhand des Tabulator-Trennzeichens.\n",
    "    daten = zeile.split('\\t')\n",
    "    # Wir hängen den gelesenen Stadtnamen in die Städte-Liste an.\n",
    "    stadt.append(daten[0])\n",
    "    # Wir verfahren in gleicher Weise mit den Breiten- und Längengraden und\n",
    "    # rechnen diese von Grad-Angaben ins Bogenmaß um.\n",
    "    breitengrad.append(float(daten[1])*math.pi/180)\n",
    "    laengengrad.append(float(daten[2])*math.pi/180)\n",
    "\n",
    "datei.close()\n",
    "\n",
    "#print(stadt)\n",
    "#print(breitengrad)\n",
    "#print(laengengrad)\n",
    "\n",
    "# Radius der Erdkugel.\n",
    "R = 6371\n",
    "\n",
    "# Zahl der Städte in Deutschland.\n",
    "n = len(stadt)\n",
    "\n",
    "# Wir initialisieren ein zweidimensionales Feld bestehend aus n Zeilen und n Spalten mit 0 Werten.\n",
    "dist = [ [ 0 for i in range(n)] for j in range(n)]\n",
    "\n",
    "# Wir bauen die Distanztabelle auf.\n",
    "for Aidx in range(n):\n",
    "    theta = breitengrad[Aidx]\n",
    "    phi = laengengrad[Aidx]\n",
    "\n",
    "    # Kartesische Koordinaten des Punktes A\n",
    "    Ax = math.cos(theta) * math.cos(phi)\n",
    "    Ay = math.cos(theta) * math.sin(phi)\n",
    "    Az = math.sin(theta)\n",
    "\n",
    "    for Bidx in range(Aidx+1,n):\n",
    "        theta = breitengrad[Bidx]\n",
    "        phi = laengengrad[Bidx]\n",
    "\n",
    "        # Kartesische Koordinaten des Punktes B\n",
    "        Bx = math.cos(theta)*math.cos(phi)\n",
    "        By = math.cos(theta)*math.sin(phi)\n",
    "        Bz = math.sin(theta)\n",
    "\n",
    "        # Skalarprodukt des A-Vektors und B-Vektors\n",
    "        AB = Ax * Bx + Ay * By + Az * Bz\n",
    "        # Fehlerbehandlung für den Fall, dass aufgrund numerischer Fehler AB nicht im Definitionsbereich des acos liegt.\n",
    "        if AB > 1.0:\n",
    "            AB = 1.0\n",
    "        if AB < -1.0:\n",
    "            AB = -1.0\n",
    "        # Winkel zwischen A-Vektor und B-Vektor\n",
    "        alpha = math.acos(AB)\n",
    "        # Eintrag des berechneten Distanzwertes in die symmetrische Distanztabelle.\n",
    "        dist[Aidx][Bidx] = dist[Bidx][Aidx] = alpha * R\n",
    "\n",
    "# Beispielhafte Distanzberechnung für MZ und KO.\n",
    "Aidx = stadt.index('MAINZ')\n",
    "Bidx = stadt.index('KOBLENZ')\n",
    "\n",
    "print('Entfernung = ',dist[Aidx][Bidx])"
   ]
  },
  {
   "cell_type": "markdown",
   "metadata": {},
   "source": [
    "![](_images/test.svg)"
   ]
  }
 ],
 "metadata": {
  "kernelspec": {
   "display_name": "Python 3.10.6 64-bit",
   "language": "python",
   "name": "python3"
  },
  "language_info": {
   "codemirror_mode": {
    "name": "ipython",
    "version": 3
   },
   "file_extension": ".py",
   "mimetype": "text/x-python",
   "name": "python",
   "nbconvert_exporter": "python",
   "pygments_lexer": "ipython3",
   "version": "3.10.6"
  },
  "orig_nbformat": 4,
  "vscode": {
   "interpreter": {
    "hash": "916dbcbb3f70747c44a77c7bcd40155683ae19c65e1c03b4aa3499c5328201f1"
   }
  }
 },
 "nbformat": 4,
 "nbformat_minor": 2
}
