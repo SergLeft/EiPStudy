{
 "cells": [
  {
   "cell_type": "markdown",
   "metadata": {},
   "source": [
    "## Matrizen:\n",
    "\n",
    "![](_images/Matrix.svg)"
   ]
  },
  {
   "cell_type": "markdown",
   "metadata": {},
   "source": [
    "## Matrixmultiplikation:\n",
    "\n",
    "![](_images/MatMul.svg)"
   ]
  },
  {
   "cell_type": "code",
   "execution_count": 7,
   "metadata": {},
   "outputs": [
    {
     "name": "stdout",
     "output_type": "stream",
     "text": [
      "3 2 2\n",
      "[[1.0, 3.0], [1.0, 7.0], [1.0, 11.0]]\n"
     ]
    }
   ],
   "source": [
    "A = [[1,2],[3,4],[5,6]]\n",
    "B = [[-1,1],[1,1]]\n",
    "\n",
    "n = len(A)\n",
    "m = len(B[0])\n",
    "d = len(A[0])\n",
    "\n",
    "print(n,d,m)\n",
    "\n",
    "C = [ [0 for j in range(m)] for i in range(n) ]\n",
    "\n",
    "for i in range(n):\n",
    "    for j in range(m):\n",
    "        C[i][j] = 0.0\n",
    "        for k in range(d):\n",
    "            C[i][j] += A[i][k] * B[k][j]\n",
    "\n",
    "print(C)\n"
   ]
  }
 ],
 "metadata": {
  "kernelspec": {
   "display_name": "Python 3.10.6 64-bit",
   "language": "python",
   "name": "python3"
  },
  "language_info": {
   "codemirror_mode": {
    "name": "ipython",
    "version": 3
   },
   "file_extension": ".py",
   "mimetype": "text/x-python",
   "name": "python",
   "nbconvert_exporter": "python",
   "pygments_lexer": "ipython3",
   "version": "3.10.12"
  },
  "orig_nbformat": 4,
  "vscode": {
   "interpreter": {
    "hash": "916dbcbb3f70747c44a77c7bcd40155683ae19c65e1c03b4aa3499c5328201f1"
   }
  }
 },
 "nbformat": 4,
 "nbformat_minor": 2
}
