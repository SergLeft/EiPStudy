{
 "cells": [
  {
   "cell_type": "markdown",
   "metadata": {},
   "source": [
    "![](../_images/Titel.svg)"
   ]
  },
  {
   "attachments": {},
   "cell_type": "markdown",
   "metadata": {},
   "source": [
    "# Binäre Suchbäume"
   ]
  },
  {
   "attachments": {},
   "cell_type": "markdown",
   "metadata": {},
   "source": [
    "![](_images/ADT-Suchbaum.svg)"
   ]
  },
  {
   "cell_type": "code",
   "execution_count": 2,
   "metadata": {},
   "outputs": [
    {
     "data": {
      "text/html": [
       "<video src=\"_images/Suchbaum.mp4\" controls  width=\"1280\" >\n",
       "      Your browser does not support the <code>video</code> element.\n",
       "    </video>"
      ],
      "text/plain": [
       "<IPython.core.display.Video object>"
      ]
     },
     "execution_count": 2,
     "metadata": {},
     "output_type": "execute_result"
    }
   ],
   "source": [
    "from IPython import display\n",
    "\n",
    "display.Video(width=1280,filename=\"_images/Suchbaum.mp4\",html_attributes='controls')"
   ]
  },
  {
   "cell_type": "code",
   "execution_count": null,
   "metadata": {},
   "outputs": [],
   "source": [
    "# Die Klasse Baumknoten dient zur Repräsentation eines Knotens eines\n",
    "# binären Suchbaumes. Ein binärer Suchbaum hat die Eigenschaft, dass\n",
    "# alle Schlüsseleinträge im linken Unterbaum eines Knotens kleiner\n",
    "# (oder gleich) als der Schlüssel des betrachteten Knotens sind und alle\n",
    "# Schlüssel des rechten Unterbaums größer als dieser Schlüssel sind.\n",
    "# Mit Hilfe der Memberfunktionen dieser Klasse kann der Unterbaum\n",
    "# unterhalb eines Baumknotens zu verschiedenen Zwecken durchmustert werden.\n",
    "\n",
    "class Baumknoten:\n",
    "    # Ein Knoten des Suchbaumes beinhaltet einen Schlüssel und den damit\n",
    "    # verbundenen Inhalt. Desweiteren zwei Verweise auf die (Wurzel)Knoten\n",
    "    # des linken und rechten Teilbaumes.\n",
    "    def __init__(self,schluessel,inhalt):\n",
    "        self.schluessel = schluessel\n",
    "        self.inhalt = inhalt\n",
    "        self.links = self.rechts = None\n",
    "\n",
    "    # Eine Memberfunktion zum Einfügen eines neuen Baumknotens (knoten).\n",
    "    def einfuege(self,knoten):\n",
    "        # Wenn der Schlüssel des einzufügenden Knotens gleich dem Schlüssel\n",
    "        # des betrachteten Baumknotens (self) ist,\n",
    "        if knoten.schluessel == self.schluessel:\n",
    "            # überschreiben wir den alten Inhalt mit dem neuen.\n",
    "            self.inhalt = knoten.inhalt\n",
    "            return\n",
    "        # Wenn der Schlüssel des einzufügenden Knotens kleiner ist als der Schlüssel\n",
    "        # des betrachteten Baumknotens (self), verzweigen wir in den linken Unterbaum.\n",
    "        if knoten.schluessel < self.schluessel:\n",
    "            if self.links == None:\n",
    "                # Wenn der linke Kindknoten nicht existiert, können wir dort den neuen\n",
    "                # Knoten einfügen.\n",
    "                self.links = knoten\n",
    "            else:\n",
    "                # Wenn der linke Kindknoten existiert, delegieren wir die Einfügeoperation\n",
    "                # an diesen Knoten (self.links) durch einen rekursiven Aufruf.\n",
    "                self.links.einfuege(knoten)\n",
    "        else: # Analog für den rechten Unterbaum\n",
    "            if self.rechts == None:\n",
    "                self.rechts = knoten\n",
    "            else:\n",
    "                self.rechts.einfuege(knoten)\n",
    "\n",
    "    # Eine Memberfunktion zum Suchen eines Knotens mit dem Schlüssel schluessel.\n",
    "    def suche(self,schluessel):\n",
    "        if schluessel == self.schluessel:\n",
    "            return(self.inhalt)\n",
    "        if schluessel < self.schluessel:\n",
    "            if self.links == None:\n",
    "                return(None)\n",
    "            return(self.links.suche(schluessel))\n",
    "        else:\n",
    "            if self.rechts == None:\n",
    "                return(None)\n",
    "            return(self.rechts.suche(schluessel))\n",
    "\n",
    "    # Erzeuge eine Zeichenkette für alle Schlüssel des Unterbaumes unterhalb des\n",
    "    # aktuellen Knotens in sortierter Reihenfolge (Inorder).\n",
    "    def __str__(self):\n",
    "        s = ''\n",
    "        # Wenn ein linker Unterbaum existiert, erzeugen wir eine sortierte Ausgabe\n",
    "        # für alle Schlüssel in diesem Teilbaum.\n",
    "        if self.links != None:\n",
    "            s += str(self.links)\n",
    "        # Dann geben wir den Schlüssel des betrachteten Knotens (self) aus.\n",
    "        s += str(self.schluessel)+' '\n",
    "        # Anschließend die Schlüssel im rechten Unterbaum, sofern dieser existiert.\n",
    "        if self.rechts != None:\n",
    "            s += str(self.rechts)\n",
    "        return(s)\n",
    "\n",
    "# Die Klasse Suchbaum stellt eine abstrakte Datenstruktur dar, mit der es möglich\n",
    "# ist eine Menge von (Schlüssel,Inhalt)-Paaren effizient zu verwalten, so dass man\n",
    "# leicht neue Einträge hinzufügen (und auch löschen kann - wie ???) und nach Einträgen\n",
    "# mit einem bestimmten Suchschlüssel suchen kann. Diese Operationen benötigen nur\n",
    "# so viele Schritte, wie der Suchbaum tief ist. (Bei einem gut balancierten Baum\n",
    "# wächst die Tiefe nur logarithmisch mit der Knotenzahl.)\n",
    "class Suchbaum:\n",
    "    # Konstruktor für den leeren Suchbaum.\n",
    "    def __init__(self):\n",
    "        self.wurzel = None\n",
    "\n",
    "    # Einfügen eines neuen (Schlüssel,Inhalt)-Paares.\n",
    "    def einfuege(self,schluessel,inhalt):\n",
    "        knoten = Baumknoten(schluessel,inhalt)\n",
    "        if self.wurzel == None:\n",
    "            self.wurzel = knoten\n",
    "        self.wurzel.einfuege(knoten)\n",
    "\n",
    "    # Suche nach einem Baumknoten, dessen Schlüssel dem Suchschlüssel entspricht.\n",
    "    def suche(self,schluessel):\n",
    "        if self.wurzel == None:\n",
    "            return(None)\n",
    "        return(self.wurzel.suche(schluessel))\n",
    "\n",
    "    # Überladen der str-Funktion zur sortierten Ausgabe des gesamten Suchbaumes.\n",
    "    def __str__(self):\n",
    "        if self.wurzel == None:\n",
    "            return('')\n",
    "        # Wir deligieren die Arbeit an den Baumknoten wurzel.\n",
    "        return(str(self.wurzel))\n",
    "\n",
    "L = [25,34,27,12,38,18,10,21,46,5,14,20,15,35,23,8,42]\n",
    "\n",
    "S = Suchbaum()\n",
    "for x in L:\n",
    "    S.einfuege(x,x)\n",
    "print(S)\n",
    "\n",
    "print(S.suche(44))\n",
    "\n",
    "S = Suchbaum()\n",
    "\n",
    "datei = open('data/Woerterbuch.txt',encoding='utf-8')\n",
    "\n",
    "for zeile in datei:\n",
    "    wort = zeile.split('\\t')\n",
    "    S.einfuege(wort[0],wort[1])\n",
    "\n",
    "datei.close()\n",
    "\n",
    "while True:\n",
    "    wort = input('de = ')\n",
    "    print(S.suche(wort))\n"
   ]
  }
 ],
 "metadata": {
  "kernelspec": {
   "display_name": "Python 3",
   "language": "python",
   "name": "python3"
  },
  "language_info": {
   "codemirror_mode": {
    "name": "ipython",
    "version": 3
   },
   "file_extension": ".py",
   "mimetype": "text/x-python",
   "name": "python",
   "nbconvert_exporter": "python",
   "pygments_lexer": "ipython3",
   "version": "3.10.6 (main, Nov 14 2022, 16:10:14) [GCC 11.3.0]"
  },
  "orig_nbformat": 4,
  "vscode": {
   "interpreter": {
    "hash": "916dbcbb3f70747c44a77c7bcd40155683ae19c65e1c03b4aa3499c5328201f1"
   }
  }
 },
 "nbformat": 4,
 "nbformat_minor": 2
}
