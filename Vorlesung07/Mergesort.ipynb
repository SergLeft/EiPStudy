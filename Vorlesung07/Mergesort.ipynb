{
 "cells": [
  {
   "cell_type": "markdown",
   "metadata": {},
   "source": [
    "![](../_images/Titel.svg)"
   ]
  },
  {
   "cell_type": "markdown",
   "metadata": {},
   "source": [
    "# Teile und Herrsche / Divide and Conquer\n",
    "\n",
    "![](_images/DivideAndConquer.png)"
   ]
  },
  {
   "attachments": {},
   "cell_type": "markdown",
   "metadata": {},
   "source": [
    "![](_images/Mergesort.svg)\n",
    "\n",
    "![](_images/Mergesort_R1.svg)\n",
    "\n",
    "![](_images/Mergesort_R2.svg)"
   ]
  },
  {
   "cell_type": "code",
   "execution_count": 1,
   "metadata": {},
   "outputs": [
    {
     "data": {
      "text/html": [
       "<video src=\"_images/Merge.mp4\" controls  width=\"1280\" >\n",
       "      Your browser does not support the <code>video</code> element.\n",
       "    </video>"
      ],
      "text/plain": [
       "<IPython.core.display.Video object>"
      ]
     },
     "execution_count": 1,
     "metadata": {},
     "output_type": "execute_result"
    }
   ],
   "source": [
    "from IPython import display\n",
    "\n",
    "display.Video(width=1280,filename=\"_images/Merge.mp4\",html_attributes='controls')"
   ]
  },
  {
   "cell_type": "code",
   "execution_count": 1,
   "metadata": {},
   "outputs": [
    {
     "name": "stdout",
     "output_type": "stream",
     "text": [
      "True\n"
     ]
    }
   ],
   "source": [
    "# Sortieren durch Mischen ist ein effizientes vergleichsbasiertes Sortierverfahren,\n",
    "# das dem Divide & Conquer-Prinzip folgt - einem wichtigen Paradigma beim Algorithmenentwurf.\n",
    "# Idee für die rekursive Vorgehensweise:\n",
    "# 1. Wir teilen die unsortierte Folge in eine linke und eine rechte Hälfte.\n",
    "# 2. Wir sortieren die beiden Hälften getrennt voneinander in rekursiver Weise.\n",
    "# 3. Wir mischen die beiden sortierten Folgen zu einer sortierten Ergebnisfolge.\n",
    "# Sei T(n) die Zahl der Vergleichsoperationen von Mergesort zum Sortieren von n Elemente,\n",
    "# dann erhält man folgende Rekursionsgleichung für T(n) = 2*T(n/2)+n und T(1) = 0\n",
    "# Die Lösung dieser Gleichung lautet: T(n) = n*log_2(n).\n",
    "# Diese Laufzeit ist somit deutlich besser als die quadratische Laufzeit von naiven\n",
    "# Sortierverfahren wie z.B. Bubblesort.\n",
    "\n",
    "import random\n",
    "\n",
    "# Der Selbsttest zur Überprüfung, ob eine Liste L sortiert ist.\n",
    "def istSortiert(L):\n",
    "    for i in range(len(L)-1):\n",
    "        if L[i] > L[i+1]:\n",
    "            return(False)\n",
    "    return(True)\n",
    "\n",
    "# Die Funktion zum Mischen zweier sortierer Folgen A und B zu einer Ergebnisfolge C.\n",
    "def merge(A,B):\n",
    "    # Initialisierung der Ergebnisliste C\n",
    "    C = []\n",
    "    # Die Indizes i und j zeigen auf die Positionen der noch zu bearbeitenden Elemente von A und B\n",
    "    i = j = 0\n",
    "    # Solange wir noch Elemente aus A und B vor uns haben ...\n",
    "    while i < len(A) and j < len(B):\n",
    "        # ... übertragen wir das jeweils kleinere in die Ergebnisfolge C und\n",
    "        # bewegen den Index i bzw. j um eine Position weiter.\n",
    "        if A[i] < B[j]:\n",
    "            C.append(A[i])\n",
    "            i += 1\n",
    "        else:\n",
    "            C.append(B[j])\n",
    "            j += 1\n",
    "     # Wir übertragen den eventuell verbliebenen Rest von A nach C.\n",
    "    while i < len(A):\n",
    "        C.append(A[i])\n",
    "        i += 1\n",
    "     # Wir übertragen den Rest von B nach C.\n",
    "    while j < len(B):\n",
    "        C.append(B[j])\n",
    "        j += 1\n",
    "    return(C)\n",
    "\n",
    "# Rekursive Implementierung von Mergesort.\n",
    "def sort(L):\n",
    "    n = len(L)\n",
    "    # Rekursionsanker falls die zu sortierende Folge L nur aus einem Element besteht.\n",
    "    if n == 1:\n",
    "        return(L)\n",
    "    # Wir bestimmen die Mitte zum Aufteilen der Folge L.\n",
    "    mitte = n // 2\n",
    "    # Wir sortieren die linke Hälfte. Dazu übergeben wir eine Kopie der Elemente von L\n",
    "    # von Position 0 bis zur Position mitte-1.\n",
    "    A = sort(L[0:mitte])\n",
    "    # Mit der rechten Hälfte verfahren wir analog.\n",
    "    B = sort(L[mitte:n])\n",
    "    # Abschließend mischen wir die beiden nun sortierten Teilfolgen und geben das Ergebnis zurück.\n",
    "    C = merge(A,B)\n",
    "    return(C)\n",
    "\n",
    "F = [random.randint(1000,9999) for i in range(100000)]\n",
    "print(istSortiert(sort(F)))\n"
   ]
  },
  {
   "attachments": {},
   "cell_type": "markdown",
   "metadata": {},
   "source": [
    "## Laufzeitanalyse für Mergesort"
   ]
  },
  {
   "cell_type": "code",
   "execution_count": 1,
   "metadata": {},
   "outputs": [
    {
     "data": {
      "text/html": [
       "<video src=\"_images/TMerge.mp4\" controls  width=\"1400\" >\n",
       "      Your browser does not support the <code>video</code> element.\n",
       "    </video>"
      ],
      "text/plain": [
       "<IPython.core.display.Video object>"
      ]
     },
     "execution_count": 1,
     "metadata": {},
     "output_type": "execute_result"
    }
   ],
   "source": [
    "from IPython import display\n",
    "\n",
    "display.Video(width=1400,filename=\"_images/TMerge.mp4\",html_attributes='controls')"
   ]
  },
  {
   "attachments": {},
   "cell_type": "markdown",
   "metadata": {},
   "source": [
    "## Laufzeitvergleich\n",
    "\n",
    "![](_images/Laufzeiten.svg)"
   ]
  }
 ],
 "metadata": {
  "kernelspec": {
   "display_name": "Python 3.10.6 64-bit",
   "language": "python",
   "name": "python3"
  },
  "language_info": {
   "codemirror_mode": {
    "name": "ipython",
    "version": 3
   },
   "file_extension": ".py",
   "mimetype": "text/x-python",
   "name": "python",
   "nbconvert_exporter": "python",
   "pygments_lexer": "ipython3",
   "version": "3.10.6 (main, Nov 14 2022, 16:10:14) [GCC 11.3.0]"
  },
  "orig_nbformat": 4,
  "vscode": {
   "interpreter": {
    "hash": "916dbcbb3f70747c44a77c7bcd40155683ae19c65e1c03b4aa3499c5328201f1"
   }
  }
 },
 "nbformat": 4,
 "nbformat_minor": 2
}
