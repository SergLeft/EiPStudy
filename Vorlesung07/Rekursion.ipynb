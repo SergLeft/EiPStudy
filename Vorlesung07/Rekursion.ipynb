{
 "cells": [
  {
   "cell_type": "markdown",
   "metadata": {},
   "source": [
    "# Rekursive Funktionen:\n",
    "\n",
    "## Fakultät (iterativ):\n",
    "\n",
    "$$\n",
    "n! = 1\\cdot 2\\cdot 3\\cdots (n-1)\\cdot n = \\prod_{i=1}^n i\n",
    "$$\n"
   ]
  },
  {
   "cell_type": "code",
   "execution_count": 1,
   "metadata": {},
   "outputs": [
    {
     "name": "stdout",
     "output_type": "stream",
     "text": [
      "6\n"
     ]
    }
   ],
   "source": [
    "n = 3\n",
    "f = 1\n",
    "while n > 0:\n",
    "    f = f * n\n",
    "    n = n - 1\n",
    "print(f)"
   ]
  },
  {
   "cell_type": "markdown",
   "metadata": {},
   "source": [
    "## Fakultät (rekursiv):\n",
    "\n",
    "$$\n",
    "\\begin{array}{lll}\n",
    "n! = \\left\\{\n",
    "\\begin{array}{ll}\n",
    "1 & \\text{für } n=0 \\\\\n",
    "n \\cdot (n-1)! & \\text{für } n > 0\n",
    "\\end{array}\n",
    "\\right. &\\qquad &\n",
    "f(n) = \\left\\{\n",
    "\\begin{array}{ll}\n",
    "1 & \\text{für } n=0 \\\\\n",
    "n \\cdot f(n-1) & \\text{für } n > 0\n",
    "\\end{array}\n",
    "\\right.\n",
    "\\end{array}\n",
    "$$"
   ]
  },
  {
   "cell_type": "code",
   "execution_count": 1,
   "metadata": {},
   "outputs": [
    {
     "name": "stdout",
     "output_type": "stream",
     "text": [
      "6\n"
     ]
    }
   ],
   "source": [
    "def f(n):\n",
    "    if n == 0:\n",
    "        return(1)\n",
    "    return(n*f(n-1))\n",
    "\n",
    "print(f(3))"
   ]
  },
  {
   "cell_type": "markdown",
   "metadata": {},
   "source": [
    "# Aufrufbaum für rekursive Berechnung der Fakultät:"
   ]
  },
  {
   "cell_type": "code",
   "execution_count": 9,
   "metadata": {},
   "outputs": [
    {
     "data": {
      "text/html": [
       "<video src=\"_images/Fak.mp4\" controls  width=\"500\" >\n",
       "      Your browser does not support the <code>video</code> element.\n",
       "    </video>"
      ],
      "text/plain": [
       "<IPython.core.display.Video object>"
      ]
     },
     "execution_count": 9,
     "metadata": {},
     "output_type": "execute_result"
    }
   ],
   "source": [
    "from IPython import display\n",
    "\n",
    "display.Video(width=500,filename=\"_images/Fak.mp4\",html_attributes='controls')"
   ]
  },
  {
   "cell_type": "markdown",
   "metadata": {},
   "source": [
    "# Fibonacci-Zahlen:\n",
    "\n",
    "$$\n",
    "f(n) = \\left\\{\\begin{array}{ll}\n",
    "0 & \\text{für } n = 0 \\\\\n",
    "1 & \\text{für } n = 1 \\\\\n",
    "f(n-1)+f(n-2) & \\text{für } n > 1\n",
    "\\end{array}\n",
    "\\right.\n",
    "$$\n",
    "\n"
   ]
  },
  {
   "cell_type": "code",
   "execution_count": 3,
   "metadata": {},
   "outputs": [
    {
     "name": "stdout",
     "output_type": "stream",
     "text": [
      "5\n"
     ]
    }
   ],
   "source": [
    "def f(n):\n",
    "    if n == 0: \n",
    "        return(0)\n",
    "    if n == 1:\n",
    "        return(1)\n",
    "    return(f(n-1)+f(n-2))\n",
    "\n",
    "print(f(5))\n",
    "\n"
   ]
  },
  {
   "cell_type": "markdown",
   "metadata": {},
   "source": [
    "\n",
    "\n",
    "# Aufrufbaum für Fibonacci-Rekursion:"
   ]
  },
  {
   "cell_type": "code",
   "execution_count": 8,
   "metadata": {},
   "outputs": [
    {
     "data": {
      "text/html": [
       "<video src=\"_images/Fib.mp4\" controls  width=\"1280\" >\n",
       "      Your browser does not support the <code>video</code> element.\n",
       "    </video>"
      ],
      "text/plain": [
       "<IPython.core.display.Video object>"
      ]
     },
     "execution_count": 8,
     "metadata": {},
     "output_type": "execute_result"
    }
   ],
   "source": [
    "from IPython import display\n",
    "\n",
    "display.Video(width=1280,filename=\"_images/Fib.mp4\",html_attributes='controls')"
   ]
  },
  {
   "cell_type": "markdown",
   "metadata": {},
   "source": [
    "## Memoisierung"
   ]
  },
  {
   "cell_type": "code",
   "execution_count": 21,
   "metadata": {},
   "outputs": [
    {
     "name": "stdout",
     "output_type": "stream",
     "text": [
      "5\n"
     ]
    }
   ],
   "source": [
    "G = [0,1]\n",
    "\n",
    "def f(n):\n",
    "    if n < len(G):\n",
    "        return(G[n]) \n",
    "    G.append(f(n-1)+f(n-2))\n",
    "    return(G[n])\n",
    "\n",
    "print(f(5))"
   ]
  }
 ],
 "metadata": {
  "kernelspec": {
   "display_name": "Python 3.10.6 64-bit",
   "language": "python",
   "name": "python3"
  },
  "language_info": {
   "codemirror_mode": {
    "name": "ipython",
    "version": 3
   },
   "file_extension": ".py",
   "mimetype": "text/x-python",
   "name": "python",
   "nbconvert_exporter": "python",
   "pygments_lexer": "ipython3",
   "version": "3.10.6"
  },
  "orig_nbformat": 4,
  "vscode": {
   "interpreter": {
    "hash": "916dbcbb3f70747c44a77c7bcd40155683ae19c65e1c03b4aa3499c5328201f1"
   }
  }
 },
 "nbformat": 4,
 "nbformat_minor": 2
}
