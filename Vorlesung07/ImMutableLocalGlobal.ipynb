{
 "cells": [
  {
   "cell_type": "code",
   "execution_count": 26,
   "metadata": {},
   "outputs": [
    {
     "name": "stdout",
     "output_type": "stream",
     "text": [
      "[1, 2, 3, 3, 2, 1]\n",
      "6\n",
      "[1, 2, 3, 3, 2, 1]\n"
     ]
    }
   ],
   "source": [
    "def spiegele(A,B):\n",
    "    global zaehler\n",
    "\n",
    "    def kehre_um_und_haenge_an(C):\n",
    "        global zaehler    \n",
    "        for i in range(len(C)-1,-1,-1):\n",
    "            B.append(C[i])\n",
    "            zaehler += 1\n",
    "\n",
    "    for a in A:\n",
    "        B.append(a)\n",
    "        zaehler += 1\n",
    "\n",
    "    kehre_um_und_haenge_an(A)\n",
    "\n",
    "def spiegele2(A):\n",
    "    B = []\n",
    "    for a in A:\n",
    "        B.append(a)\n",
    "    for a in reversed(A):\n",
    "        B.append(a)\n",
    "    return(B)\n",
    "\n",
    "def spiegele3(A):\n",
    "    for i in range(len(A)-1,-1,-1):\n",
    "        A.append(A[i])\n",
    "\n",
    "\n",
    "zaehler = 0\n",
    "L1 = [1,2,3]\n",
    "L2 = []\n",
    "spiegele(L1,L2)\n",
    "print(L2)\n",
    "print(zaehler)\n",
    "spiegele3(L1)\n",
    "print(L1)\n"
   ]
  },
  {
   "cell_type": "code",
   "execution_count": 30,
   "metadata": {},
   "outputs": [
    {
     "name": "stdout",
     "output_type": "stream",
     "text": [
      "[7]\n",
      "[1, 2, 3]\n"
     ]
    }
   ],
   "source": [
    "def f():\n",
    "    L = [7]\n",
    "    print(L)\n",
    "\n",
    "L = [1,2,3]\n",
    "f()\n",
    "print(L)\n"
   ]
  }
 ],
 "metadata": {
  "kernelspec": {
   "display_name": "Python 3",
   "language": "python",
   "name": "python3"
  },
  "language_info": {
   "codemirror_mode": {
    "name": "ipython",
    "version": 3
   },
   "file_extension": ".py",
   "mimetype": "text/x-python",
   "name": "python",
   "nbconvert_exporter": "python",
   "pygments_lexer": "ipython3",
   "version": "3.12.3"
  }
 },
 "nbformat": 4,
 "nbformat_minor": 2
}
