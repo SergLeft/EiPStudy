{
 "cells": [
  {
   "attachments": {},
   "cell_type": "markdown",
   "metadata": {},
   "source": [
    "![](../_images/Titel.svg)"
   ]
  },
  {
   "attachments": {},
   "cell_type": "markdown",
   "metadata": {},
   "source": [
    "# Brüche als Python-Objekte"
   ]
  },
  {
   "attachments": {},
   "cell_type": "markdown",
   "metadata": {},
   "source": [
    "![](_images/Bruch4.svg)"
   ]
  },
  {
   "cell_type": "code",
   "execution_count": null,
   "metadata": {},
   "outputs": [],
   "source": [
    "class Bruch:\n",
    "    def __init__(self,zaehler,nenner = 1):\n",
    "        self.z = zaehler\n",
    "        self.n = nenner\n",
    "\n",
    "    def __add__(self, other):\n",
    "        ergebnis_zaehler = self.z * other.n + self.n * other.z\n",
    "        ergebnis_nenner = self.n * other.n\n",
    "        return(Bruch(ergebnis_zaehler,ergebnis_nenner).reduce())\n",
    "\n",
    "    def __sub__(self, other):\n",
    "        ergebnis_zaehler = self.z * other.n - self.n * other.z\n",
    "        ergebnis_nenner = self.n * other.n\n",
    "        return(Bruch(ergebnis_zaehler,ergebnis_nenner).reduce())\n",
    "\n",
    "    def __mul__(self, other):\n",
    "        ergebnis_zaehler = self.z * other.z\n",
    "        ergebnis_nenner = self.n * other.n\n",
    "        return(Bruch(ergebnis_zaehler,ergebnis_nenner).reduce())\n",
    "\n",
    "    def __truediv__(self, other):\n",
    "        ergebnis_zaehler = self.z * other.n\n",
    "        ergebnis_nenner = self.n * other.z\n",
    "        return(Bruch(ergebnis_zaehler,ergebnis_nenner).reduce())\n",
    "\n",
    "    def __neg__(self):\n",
    "        return(Bruch(-self.z,self.n))\n",
    "\n",
    "    def __str__(self):\n",
    "        if self.n == 1:\n",
    "            return(str(self.z))\n",
    "        return(str(self.z)+'/'+str(self.n))\n",
    "\n",
    "    def __lt__(self, other):\n",
    "        if self.n * other.n > 0:\n",
    "            return(self.z * other.n < self.n * other.z)\n",
    "        else:\n",
    "            return (self.z * other.n > self.n * other.z)\n",
    "\n",
    "    def __eq__(self, other):\n",
    "            return(self.z * other.n == self.n * other.z)\n",
    "\n",
    "    def reduce(self):\n",
    "        g = Bruch.ggT(self.z,self.n)\n",
    "        return(Bruch(self.z // g,self.n // g))\n",
    "\n",
    "    def ggT(a, b):\n",
    "        while b != 0:\n",
    "            r = a % b\n",
    "            a = b\n",
    "            b = r\n",
    "        return(a)\n",
    "\n",
    "a = Bruch(1,2)\n",
    "b = -Bruch(2,3) # Bruch(2,3).__neg__()\n",
    "c = a + b # a.__add__(b)\n",
    "d = a / b # a.__truediv__(b)\n",
    "L = [a,b,c,d]\n",
    "L.sort() # sort verwendet intern __lt__\n",
    "\n",
    "for x in L:\n",
    "    print(x)\n",
    "\n",
    "a = Bruch(1,2)\n",
    "b = Bruch(1,2)\n",
    "print(a == b) # a.__eq__(b)\n",
    "# Wenn __eq__ nicht überladen wäre, würde == nur die Verweise der Objekte auf ihren Speicherort\n",
    "# vergleichen und da a und b auf unterschiedliche Speicherorte verweisen, wäre das Ergebnis dieses\n",
    "# Vergleichs False\n"
   ]
  },
  {
   "cell_type": "code",
   "execution_count": 3,
   "metadata": {},
   "outputs": [
    {
     "data": {
      "text/html": [
       "<video src=\"_images/Objekt.mp4\" controls  width=\"960\" >\n",
       "      Your browser does not support the <code>video</code> element.\n",
       "    </video>"
      ],
      "text/plain": [
       "<IPython.core.display.Video object>"
      ]
     },
     "execution_count": 3,
     "metadata": {},
     "output_type": "execute_result"
    }
   ],
   "source": [
    "from IPython import display\n",
    "\n",
    "display.Video(width=960,filename=\"_images/Objekt.mp4\",html_attributes='controls')"
   ]
  },
  {
   "attachments": {},
   "cell_type": "markdown",
   "metadata": {},
   "source": [
    "| Operator | Ausdruck | Interne Methode |\n",
    "|----------|----------|-----------------|\n",
    "| Addition | p1 + p2  | p1.\\_\\_add\\_\\_(p2) |\n",
    "|Subtraction | p1 - p2 | p1.\\_\\_sub\\_\\_(p2) |\n",
    "|Multiplication |  p1 * p2 | p1.\\_\\_mul\\_\\_(p2) |\n",
    "|Power | p1 ** p2 | p1.\\_\\_pow\\_\\_(p2) |\n",
    "|Division | p1 / p2 | p1.\\_\\_truediv\\_\\_(p2) |\n",
    "|Floor Division | p1 // p2 | p1.\\_\\_floordiv\\_\\_(p2) |\n",
    "|Remainder (modulo) | p1 \\% p2 | p1.\\_\\_mod\\_\\_(p2) |\n",
    "|Less than | p1 < p2 | p1.\\_\\_lt\\_\\_(p2) |\n",
    "|Less than or equal to | p1 <= p2 | p1.\\_\\_le\\_\\_(p2) |\n",
    "|Equal to | p1 == p2 | p1.\\_\\_eq\\_\\_(p2) |\n",
    "|Not equal to | p1 != p2 | p1.\\_\\_ne\\_\\_(p2) |\n",
    "|Greater than | p1 > p2 | p1.\\_\\_gt\\_\\_(p2) |\n",
    "|Greater than or equal to | p1 >= p2 | p1.\\_\\_ge\\_\\_(p2) |"
   ]
  }
 ],
 "metadata": {
  "kernelspec": {
   "display_name": "Python 3",
   "language": "python",
   "name": "python3"
  },
  "language_info": {
   "codemirror_mode": {
    "name": "ipython",
    "version": 3
   },
   "file_extension": ".py",
   "mimetype": "text/x-python",
   "name": "python",
   "nbconvert_exporter": "python",
   "pygments_lexer": "ipython3",
   "version": "3.10.6 (main, Nov 14 2022, 16:10:14) [GCC 11.3.0]"
  },
  "orig_nbformat": 4,
  "vscode": {
   "interpreter": {
    "hash": "916dbcbb3f70747c44a77c7bcd40155683ae19c65e1c03b4aa3499c5328201f1"
   }
  }
 },
 "nbformat": 4,
 "nbformat_minor": 2
}
