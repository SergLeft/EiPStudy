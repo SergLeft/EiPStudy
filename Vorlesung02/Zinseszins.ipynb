{
 "cells": [
  {
   "cell_type": "markdown",
   "metadata": {},
   "source": [
    "![](../_images/Titel.svg)"
   ]
  },
  {
   "cell_type": "code",
   "execution_count": 1,
   "metadata": {},
   "outputs": [
    {
     "name": "stdout",
     "output_type": "stream",
     "text": [
      "Kapital nach 1. Jahr =  1010.0\n",
      "Kapital nach 2. Jahr =  1020.1\n",
      "Kapital nach 3. Jahr =  1030.301\n",
      "Kapital nach 4. Jahr =  1040.60401\n",
      "Kapital nach 5. Jahr =  1051.0100501\n",
      "Kapital nach 6. Jahr =  1061.5201506009998\n",
      "Kapital nach 7. Jahr =  1072.1353521070098\n"
     ]
    }
   ],
   "source": [
    "K = float(input('Startkapital = '))\n",
    "p = 0.01\n",
    "Z = K * p\n",
    "K = K + Z\n",
    "print('Kapital nach 1. Jahr = ',K)\n",
    "Z = K * p\n",
    "K = K + Z\n",
    "print('Kapital nach 2. Jahr = ',K)\n",
    "Z = K * p\n",
    "K = K + Z\n",
    "print('Kapital nach 3. Jahr = ',K)\n",
    "Z = K * p\n",
    "K = K + Z\n",
    "print('Kapital nach 4. Jahr = ',K)\n",
    "Z = K * p\n",
    "K = K + Z\n",
    "print('Kapital nach 5. Jahr = ',K)\n",
    "Z = K * p\n",
    "K = K + Z\n",
    "print('Kapital nach 6. Jahr = ',K)\n",
    "Z = K * p\n",
    "K = K + Z\n",
    "print('Kapital nach 7. Jahr = ',K)"
   ]
  },
  {
   "cell_type": "markdown",
   "metadata": {},
   "source": [
    "# Zinseszinsrechnung\n",
    "![](_images/Zinseszins.svg)"
   ]
  },
  {
   "cell_type": "markdown",
   "metadata": {},
   "source": [
    "# While-Schleife\n",
    "\n",
    "![](_images/While-Schleife.svg)"
   ]
  },
  {
   "cell_type": "code",
   "execution_count": 4,
   "metadata": {},
   "outputs": [
    {
     "name": "stdout",
     "output_type": "stream",
     "text": [
      "Kapital nach dem 1 . Jahr  =  1010.0\n",
      "Kapital nach dem 2 . Jahr  =  1020.1\n",
      "Kapital nach dem 3 . Jahr  =  1030.301\n",
      "Kapital nach dem 4 . Jahr  =  1040.60401\n",
      "Kapital nach dem 5 . Jahr  =  1051.0100501\n",
      "Kapital nach dem 6 . Jahr  =  1061.5201506009998\n",
      "Kapital nach dem 7 . Jahr  =  1072.1353521070098\n",
      "Kapital nach dem 8 . Jahr  =  1082.85670562808\n",
      "Kapital nach dem 9 . Jahr  =  1093.6852726843606\n",
      "Kapital nach dem 10 . Jahr  =  1104.6221254112043\n",
      "Kapital nach dem 11 . Jahr  =  1115.6683466653162\n",
      "Kapital nach dem 12 . Jahr  =  1126.8250301319695\n",
      "Kapital nach dem 13 . Jahr  =  1138.0932804332892\n",
      "Kapital nach dem 14 . Jahr  =  1149.474213237622\n",
      "Kapital nach dem 15 . Jahr  =  1160.9689553699982\n",
      "Kapital nach dem 16 . Jahr  =  1172.5786449236982\n",
      "Kapital nach dem 17 . Jahr  =  1184.3044313729351\n",
      "Kapital nach dem 18 . Jahr  =  1196.1474756866644\n",
      "Kapital nach dem 19 . Jahr  =  1208.108950443531\n",
      "Kapital nach dem 20 . Jahr  =  1220.1900399479664\n",
      "Kapital nach dem 21 . Jahr  =  1232.391940347446\n",
      "Kapital nach dem 22 . Jahr  =  1244.7158597509206\n",
      "Kapital nach dem 23 . Jahr  =  1257.16301834843\n",
      "Kapital nach dem 24 . Jahr  =  1269.7346485319142\n",
      "Kapital nach dem 25 . Jahr  =  1282.4319950172332\n",
      "Kapital nach dem 26 . Jahr  =  1295.2563149674056\n",
      "Kapital nach dem 27 . Jahr  =  1308.2088781170796\n",
      "Kapital nach dem 28 . Jahr  =  1321.2909668982504\n",
      "Kapital nach dem 29 . Jahr  =  1334.503876567233\n",
      "Kapital nach dem 30 . Jahr  =  1347.8489153329053\n"
     ]
    }
   ],
   "source": [
    "# Eingabe des Kapitals\n",
    "K = float(input('Startkapital = '))\n",
    "\n",
    "# Festlegung des Zinssatzes\n",
    "p = 0.01\n",
    "# Initialisierung des Jahreszählers\n",
    "jahr = 0\n",
    "\n",
    "# Der eingerückte Anweisungsblock der while-Schleife wird solange ausgeführt,\n",
    "# wie die Bedinung (jahr < 30) erfüllt ist.\n",
    "while jahr < 30:\n",
    "    # Ermittlung der Zinsen nach Ablauf eines Jahres\n",
    "    Z = K * p\n",
    "    # Am Ende des Jahres addieren wir die Zinsen zum Kapital\n",
    "    K = K + Z\n",
    "    # Wir inkrementieren den Jahreszähler\n",
    "    jahr = jahr + 1\n",
    "    # Ausgabe des neuen Kapitalstandes in jedem Schleifendurchlauf\n",
    "    print('Kapital nach dem',jahr,'. Jahr  = ', K)\n"
   ]
  }
 ],
 "metadata": {
  "kernelspec": {
   "display_name": "Python 3.10.6 64-bit",
   "language": "python",
   "name": "python3"
  },
  "language_info": {
   "codemirror_mode": {
    "name": "ipython",
    "version": 3
   },
   "file_extension": ".py",
   "mimetype": "text/x-python",
   "name": "python",
   "nbconvert_exporter": "python",
   "pygments_lexer": "ipython3",
   "version": "3.10.6"
  },
  "orig_nbformat": 4,
  "vscode": {
   "interpreter": {
    "hash": "916dbcbb3f70747c44a77c7bcd40155683ae19c65e1c03b4aa3499c5328201f1"
   }
  }
 },
 "nbformat": 4,
 "nbformat_minor": 2
}
