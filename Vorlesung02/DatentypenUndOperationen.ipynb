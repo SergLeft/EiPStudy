{
 "cells": [
  {
   "cell_type": "markdown",
   "metadata": {},
   "source": [
    "# Elementare Datentypen\n",
    "\n",
    "Wir betrachten die elementaren Datentypen:\n",
    "\n",
    "* float(ing point number) = Fließkommazahlen\n",
    "* int(eger) = ganze Zahlen\n",
    "* str(ing) = Zeichenketten\n",
    "* bool(ean) = Wahrheitswerte\n",
    "\n",
    "![](_images/Datentypen.svg)\n",
    "\n",
    "Der Typ einer Variable kann mit Hilfe der type-Funktion ermittelt werden."
   ]
  },
  {
   "cell_type": "code",
   "execution_count": 2,
   "metadata": {},
   "outputs": [
    {
     "name": "stdout",
     "output_type": "stream",
     "text": [
      "1.0 <class 'float'>\n",
      "1 <class 'int'>\n",
      "EIP <class 'str'>\n",
      "True <class 'bool'>\n"
     ]
    }
   ],
   "source": [
    "x = 1.0\n",
    "print(x,type(x))\n",
    "x = 1\n",
    "print(x,type(x))\n",
    "x = 'EIP'\n",
    "print(x,type(x))\n",
    "x = (1 < 2)\n",
    "print(x,type(x))"
   ]
  },
  {
   "cell_type": "markdown",
   "metadata": {},
   "source": [
    "Eine Million in wissenschaftlicher Notation als Fließkommazahl und als ganze Zahl:"
   ]
  },
  {
   "cell_type": "code",
   "execution_count": 3,
   "metadata": {},
   "outputs": [
    {
     "name": "stdout",
     "output_type": "stream",
     "text": [
      "1000000.0 <class 'float'>\n",
      "1000000 <class 'int'>\n"
     ]
    }
   ],
   "source": [
    "x = 1e6\n",
    "print(x,type(x))\n",
    "x = 1000000\n",
    "print(x,type(x))"
   ]
  },
  {
   "cell_type": "markdown",
   "metadata": {},
   "source": [
    "Fließkommazahlen (float) werden nur mit endlicher Genauigkeit (1 Bit Vorzeichen, 52 Bit Mantisse und 11 Bit Exponent im Binärsystem) dargestellt. Deshalb sind arithmetische Operationen Rundungsfehler behaftet."
   ]
  },
  {
   "cell_type": "code",
   "execution_count": 4,
   "metadata": {},
   "outputs": [
    {
     "name": "stdout",
     "output_type": "stream",
     "text": [
      "5.551115123125783e-17\n"
     ]
    }
   ],
   "source": [
    "print(3*0.1-0.3)"
   ]
  },
  {
   "cell_type": "markdown",
   "metadata": {},
   "source": [
    "Formatierte Ausgabe einer Fließkommazahl\n",
    "\n",
    "Die Formatierung wird über eine Zeichenkette der Form '%n.mf' gesteuert.\n",
    "\n",
    "* n steht für die Zahl der insgesamt ausgegebenen Zeichen inklusive des Dezimalpunktes.\n",
    "* m steht für die Zahl der Nachkommastellen."
   ]
  },
  {
   "cell_type": "code",
   "execution_count": 5,
   "metadata": {},
   "outputs": [
    {
     "name": "stdout",
     "output_type": "stream",
     "text": [
      "1234.57\n",
      "1234.56780000000003383320\n",
      "x =    1234.57\n",
      "y =      98.77\n"
     ]
    }
   ],
   "source": [
    "x = 1234.5678\n",
    "print('%.2f' % x)\n",
    "print('%.20f' % x)\n",
    "\n",
    "y = 98.7654321\n",
    "print('x = %10.2f' % x)\n",
    "print('y = %10.2f' % y)"
   ]
  },
  {
   "cell_type": "markdown",
   "metadata": {},
   "source": [
    "Ganze Zahlen (int) können potentiell beliebig viele Stellen besitzen. Die zugehörigen\n",
    "arithmetischen Operationen sind exakt."
   ]
  },
  {
   "cell_type": "code",
   "execution_count": 6,
   "metadata": {},
   "outputs": [
    {
     "name": "stdout",
     "output_type": "stream",
     "text": [
      "10000000000000000000000000000000000000000000000000000000000000000000000000000000000001 <class 'int'>\n",
      "1e+85 <class 'float'>\n",
      "0.0\n"
     ]
    }
   ],
   "source": [
    "x = 10000000000000000000000000000000000000000000000000000000000000000000000000000000000001\n",
    "print(x,type(x))\n",
    "y = float(x)\n",
    "print(y,type(y))\n",
    "print(x - y)"
   ]
  },
  {
   "cell_type": "markdown",
   "metadata": {},
   "source": [
    "Zeichenketten (str) bestehen aus einer Folge von Zeichen (Buchstaben, Ziffern, Sonderzeichen)"
   ]
  },
  {
   "cell_type": "code",
   "execution_count": 7,
   "metadata": {},
   "outputs": [
    {
     "name": "stdout",
     "output_type": "stream",
     "text": [
      "Hallo EIP! <class 'str'>\n"
     ]
    }
   ],
   "source": [
    "x = 'Hallo EIP!'\n",
    "print(x,type(x))"
   ]
  },
  {
   "cell_type": "markdown",
   "metadata": {},
   "source": [
    "Wahrheitswerte (bool) können nur die Werte True und False annehmen."
   ]
  },
  {
   "cell_type": "code",
   "execution_count": 8,
   "metadata": {},
   "outputs": [
    {
     "name": "stdout",
     "output_type": "stream",
     "text": [
      "True <class 'bool'>\n"
     ]
    }
   ],
   "source": [
    "x = (1 < 2)\n",
    "print(x,type(x))"
   ]
  },
  {
   "cell_type": "markdown",
   "metadata": {},
   "source": [
    "Wir betrachten die gebräuchlichen arithmetischen Operationen +,-,*,/,** für floats\n",
    "\n",
    "a**b steht für die Potenz a^b.\n",
    "\n",
    "Dabei gelten die üblichen Vorrangregeln (Punktrechnung vor Strichrechnung)"
   ]
  },
  {
   "cell_type": "code",
   "execution_count": 9,
   "metadata": {},
   "outputs": [
    {
     "name": "stdout",
     "output_type": "stream",
     "text": [
      "2.5\n"
     ]
    }
   ],
   "source": [
    "x = (1.0+3.0*2.0**3)/10.0\n",
    "print(x)"
   ]
  },
  {
   "cell_type": "markdown",
   "metadata": {},
   "source": [
    "Man kann int-Zahlen und float-Zahlen in arithmetischen Ausdrücken kombinieren. Sobald\n",
    "eine float-Zahl involviert ist, ist das Ergebnis vom Typ float."
   ]
  },
  {
   "cell_type": "code",
   "execution_count": 10,
   "metadata": {},
   "outputs": [
    {
     "name": "stdout",
     "output_type": "stream",
     "text": [
      "3.0 <class 'float'>\n"
     ]
    }
   ],
   "source": [
    "x = 1+2.0\n",
    "print(x,type(x))"
   ]
  },
  {
   "cell_type": "markdown",
   "metadata": {},
   "source": [
    "Bei dem Divisionsoperator ist zu beachten, dass das Ergebnis von a / b stets vom Typ float ist, selbst wenn a und b vom Typ int sind."
   ]
  },
  {
   "cell_type": "code",
   "execution_count": 11,
   "metadata": {},
   "outputs": [
    {
     "name": "stdout",
     "output_type": "stream",
     "text": [
      "3.0 <class 'float'>\n"
     ]
    }
   ],
   "source": [
    "x = 21 / 7\n",
    "print(x,type(x))"
   ]
  },
  {
   "cell_type": "markdown",
   "metadata": {},
   "source": [
    "Deshalb sollte man bei ganzzahliger Arithmetik den Divisionsoperator // verwenden.\n",
    "Bei der ganzzahligen Division mit Rest von zwei natürlichen Zahlen a und b ergibt sich:\n",
    "\n",
    "a = q * b + r mit 0 <= r < b.\n",
    "\n",
    "Qutient q = a // b und Rest r = a % b"
   ]
  },
  {
   "cell_type": "code",
   "execution_count": 12,
   "metadata": {},
   "outputs": [
    {
     "name": "stdout",
     "output_type": "stream",
     "text": [
      "3 <class 'int'>\n",
      "21  =  4 * 5 + 1\n"
     ]
    }
   ],
   "source": [
    "x = 21 // 7\n",
    "print(x,type(x))\n",
    "\n",
    "a = 21\n",
    "b = 5\n",
    "q = a // b\n",
    "r = a % b\n",
    "\n",
    "print(a,' = ',q,'*',b,'+',r)"
   ]
  },
  {
   "cell_type": "markdown",
   "metadata": {},
   "source": [
    "Operationen auf Zeichenketten"
   ]
  },
  {
   "cell_type": "code",
   "execution_count": 13,
   "metadata": {},
   "outputs": [
    {
     "name": "stdout",
     "output_type": "stream",
     "text": [
      "Hallo EIP\n",
      "HalloHalloHallo\n",
      "False True True False\n"
     ]
    }
   ],
   "source": [
    "x = 'Hallo'\n",
    "y = 'EIP'\n",
    "\n",
    "print(x+' '+y)\n",
    "print(3*x)\n",
    "print(x < y, x>= y, x != y, x == y)"
   ]
  },
  {
   "cell_type": "markdown",
   "metadata": {},
   "source": [
    "Boolesche Operationen"
   ]
  },
  {
   "cell_type": "code",
   "execution_count": 14,
   "metadata": {},
   "outputs": [
    {
     "name": "stdout",
     "output_type": "stream",
     "text": [
      "x     | y     | not x | x and y | x or y | x xor y\n",
      "False | False | True  | False   | False  | False\n",
      "False | True  | True  | False   | True   | True\n",
      "True  | False | False | False   | True   | True\n",
      "True  | True  | False | True    | True   | False\n"
     ]
    }
   ],
   "source": [
    "print('x    ','|','y    ','|','not x','|', 'x and y','|', 'x or y','|', 'x xor y')\n",
    "\n",
    "x = False; y = False\n",
    "print(x,'|',y,'|',not x,' |', x and y,'  |', x or y,' |', x ^ y)\n",
    "\n",
    "x = False; y = True\n",
    "print(x,'|',y,' |',not x,' |', x and y,'  |', x or y,'  |', x ^ y)\n",
    "\n",
    "x = True; y = False\n",
    "print(x,' |',y,'|',not x,'|', x and y,'  |', x or y,'  |', x ^ y)\n",
    "\n",
    "x = True; y = True\n",
    "print(x,' |',y,' |',not x,'|', x and y, '   |',x or y,'  |', x ^ y)"
   ]
  }
 ],
 "metadata": {
  "kernelspec": {
   "display_name": "Python 3.10.6 64-bit",
   "language": "python",
   "name": "python3"
  },
  "language_info": {
   "codemirror_mode": {
    "name": "ipython",
    "version": 3
   },
   "file_extension": ".py",
   "mimetype": "text/x-python",
   "name": "python",
   "nbconvert_exporter": "python",
   "pygments_lexer": "ipython3",
   "version": "3.10.6"
  },
  "orig_nbformat": 4,
  "vscode": {
   "interpreter": {
    "hash": "916dbcbb3f70747c44a77c7bcd40155683ae19c65e1c03b4aa3499c5328201f1"
   }
  }
 },
 "nbformat": 4,
 "nbformat_minor": 2
}
