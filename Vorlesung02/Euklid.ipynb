{
 "cells": [
  {
   "cell_type": "markdown",
   "metadata": {},
   "source": [
    "# Euklidscher Algorithmus (300 v. Chr.)\n",
    "\n",
    "__Ziel:__  Berechne den größten gemeinsamen Teiler $ggT(a,b)$ von zwei natürlichen Zahlen $a$ und $b$.\n",
    "\n",
    "Z.B. $a = 504, b = 154,\\quad ggT(504, 154) = \\;?$\n",
    "\n",
    "Naive Lösung:\n",
    "\n",
    "$$\n",
    "504 = 2 \\cdot 2 \\cdot 2 \\cdot 3 \\cdot 3 \\cdot 7,\\quad\n",
    "154 = 2 \\cdot 7 \\cdot 11\\quad\\Rightarrow\\quad ggT(504,154) = 14\n",
    "$$\n",
    "\n",
    "---\n",
    "__Satz:__ \n",
    "\n",
    " Seien $a,b\\in\\mathbb{N}$ und $a = q\\cdot b + r$, wobei $q,r\\in\\mathbb{N}_0$ und $0\\leq r < b$, \n",
    " dann gilt $$ggT(a,b)=ggT(b,r).$$\n",
    "\n",
    "---\n"
   ]
  },
  {
   "cell_type": "markdown",
   "metadata": {},
   "source": [
    "__Beispiel:__\n",
    "\n",
    "![](_images/BeispielEuklid.svg)"
   ]
  },
  {
   "cell_type": "markdown",
   "metadata": {},
   "source": [
    "---\n",
    "__Beweis:__\n",
    "\n",
    "Wir zeigen:\n",
    "\n",
    "$$\n",
    "\\begin{array}{ccc}\n",
    "x \\text{ gemeinsamer Teiler von } a \\text{ und } b &\\Leftrightarrow& x \\text{ gemeinsamer Teiler von } b \\text{ und } r \\\\[5mm]\n",
    "(x \\text{ teilt } a) \\text{ und } (x\\text{ teilt } b) &\\Leftrightarrow& (x\\text{ teilt } b) \\text{ und }(x\\text{ teilt }r )\n",
    "\\end{array}\\\\[5mm]\n",
    "\\begin{array}{lll}\n",
    "1.\\ \\Leftarrow:\\quad\n",
    "(x \\text{ teilt } b) \\text{ und } (x \\text{ teilt } r) & \\Rightarrow\\exists\\;\\beta,\\rho\\in\\mathbb{N}: b = \\beta\\cdot x \\text{ und } r = \\rho\\cdot x \\\\\n",
    "& \\Rightarrow a = q\\cdot b + r = q\\cdot\\beta\\cdot x + \\rho\\cdot x = (q \\cdot\\beta + \\rho) \\cdot x \\Rightarrow (x \\text{ teilt } a)\\\\[5mm]\n",
    "2.\\ \\Rightarrow:\\quad\n",
    "(x \\text{ teilt } a) \\text{ und } (x \\text{ teilt } b) & \\Rightarrow\\exists\\;\\alpha,\\beta\\in\\mathbb{N}: a = \\alpha\\cdot x \\text{ und } b = \\beta\\cdot x \\\\\n",
    "& \\Rightarrow r = a − q \\cdot b = \\alpha\\cdot x − q\\cdot\\beta\\cdot x = (\\alpha − q\\cdot\\beta)\\cdot x \\Rightarrow (x \\text{ teilt } r)\n",
    "\\end{array}\n",
    "$$\n",
    "\n",
    "---"
   ]
  },
  {
   "cell_type": "markdown",
   "metadata": {},
   "source": [
    "![](_images/Euklid.svg)"
   ]
  },
  {
   "cell_type": "code",
   "execution_count": 1,
   "metadata": {},
   "outputs": [
    {
     "name": "stdout",
     "output_type": "stream",
     "text": [
      "ggT( 154 , 42 ) = \n",
      "ggT( 42 , 28 ) = \n",
      "ggT( 28 , 14 ) = \n",
      "ggT( 14 , 0 ) = \n",
      "14\n"
     ]
    }
   ],
   "source": [
    "a = int(input('a = '))\n",
    "b = int(input('b = '))\n",
    "\n",
    "# Berechnung des größten gemeinsamen Teilers der beiden natürlichen Zahlen a und b\n",
    "# unter Verwendung des Euklidischen Algorithmus\n",
    "# Sei a = q * b + r mit 0 <= r < b, r = Rest bei ganzzahliger Division von a durch b,\n",
    "# dann gilt ggT(a,b) = ggT(b,r).\n",
    "# Dadurch können wir die Berechnung des ggT zweier großer Zahlen a und b auf die\n",
    "# Berechnung des ggT zweier kleinerer Zahlen b und r zurückführen.\n",
    "\n",
    "# Solange bei der Berechnung des ggT(a,b) b noch nicht den Wert 0 erreicht hat, führen wir\n",
    "# den Schleifenrumpf durch, indem wir wiederholt die ganzzahlige Division einsetzen\n",
    "# und einen Rollentausch (a,b) <-> (b,r) vornehmen.\n",
    "while b > 0:\n",
    "    # r = Rest bei ganzzahliger Division von a durch b\n",
    "    r = a % b\n",
    "    # Das Paar (a,b) wird ersetzt durch das neue Paar (b,r)\n",
    "    a = b\n",
    "    b = r\n",
    "    print('ggT(',a,',',b,') = ')\n",
    "\n",
    "# Ausgabe des ggT\n",
    "print(a)\n"
   ]
  }
 ],
 "metadata": {
  "kernelspec": {
   "display_name": "Python 3.10.6 64-bit",
   "language": "python",
   "name": "python3"
  },
  "language_info": {
   "codemirror_mode": {
    "name": "ipython",
    "version": 3
   },
   "file_extension": ".py",
   "mimetype": "text/x-python",
   "name": "python",
   "nbconvert_exporter": "python",
   "pygments_lexer": "ipython3",
   "version": "3.10.6"
  },
  "orig_nbformat": 4,
  "vscode": {
   "interpreter": {
    "hash": "916dbcbb3f70747c44a77c7bcd40155683ae19c65e1c03b4aa3499c5328201f1"
   }
  }
 },
 "nbformat": 4,
 "nbformat_minor": 2
}
